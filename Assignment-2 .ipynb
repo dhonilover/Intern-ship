{
 "cells": [
  {
   "cell_type": "markdown",
   "id": "c634e779",
   "metadata": {},
   "source": [
    "# Assignment-2 (Selenium)"
   ]
  },
  {
   "cell_type": "markdown",
   "id": "d06a425b",
   "metadata": {},
   "source": [
    "# solution for question no- 2"
   ]
  },
  {
   "cell_type": "code",
   "execution_count": 1,
   "id": "2508cae1",
   "metadata": {},
   "outputs": [
    {
     "name": "stdout",
     "output_type": "stream",
     "text": [
      "Requirement already satisfied: selenium in c:\\users\\sharm\\anaconda3\\lib\\site-packages (4.18.1)\n",
      "Requirement already satisfied: urllib3[socks]<3,>=1.26 in c:\\users\\sharm\\anaconda3\\lib\\site-packages (from selenium) (1.26.16)\n",
      "Requirement already satisfied: trio~=0.17 in c:\\users\\sharm\\anaconda3\\lib\\site-packages (from selenium) (0.24.0)\n",
      "Requirement already satisfied: trio-websocket~=0.9 in c:\\users\\sharm\\anaconda3\\lib\\site-packages (from selenium) (0.11.1)\n",
      "Requirement already satisfied: certifi>=2021.10.8 in c:\\users\\sharm\\anaconda3\\lib\\site-packages (from selenium) (2023.5.7)\n",
      "Requirement already satisfied: typing_extensions>=4.9.0 in c:\\users\\sharm\\anaconda3\\lib\\site-packages (from selenium) (4.10.0)\n",
      "Requirement already satisfied: attrs>=20.1.0 in c:\\users\\sharm\\anaconda3\\lib\\site-packages (from trio~=0.17->selenium) (22.1.0)\n",
      "Requirement already satisfied: sortedcontainers in c:\\users\\sharm\\anaconda3\\lib\\site-packages (from trio~=0.17->selenium) (2.4.0)\n",
      "Requirement already satisfied: idna in c:\\users\\sharm\\anaconda3\\lib\\site-packages (from trio~=0.17->selenium) (3.4)\n",
      "Requirement already satisfied: outcome in c:\\users\\sharm\\anaconda3\\lib\\site-packages (from trio~=0.17->selenium) (1.3.0.post0)\n",
      "Requirement already satisfied: sniffio>=1.3.0 in c:\\users\\sharm\\anaconda3\\lib\\site-packages (from trio~=0.17->selenium) (1.3.1)\n",
      "Requirement already satisfied: cffi>=1.14 in c:\\users\\sharm\\anaconda3\\lib\\site-packages (from trio~=0.17->selenium) (1.15.1)\n",
      "Requirement already satisfied: wsproto>=0.14 in c:\\users\\sharm\\anaconda3\\lib\\site-packages (from trio-websocket~=0.9->selenium) (1.2.0)\n",
      "Requirement already satisfied: PySocks!=1.5.7,<2.0,>=1.5.6 in c:\\users\\sharm\\anaconda3\\lib\\site-packages (from urllib3[socks]<3,>=1.26->selenium) (1.7.1)\n",
      "Requirement already satisfied: pycparser in c:\\users\\sharm\\anaconda3\\lib\\site-packages (from cffi>=1.14->trio~=0.17->selenium) (2.21)\n",
      "Requirement already satisfied: h11<1,>=0.9.0 in c:\\users\\sharm\\anaconda3\\lib\\site-packages (from wsproto>=0.14->trio-websocket~=0.9->selenium) (0.14.0)\n"
     ]
    }
   ],
   "source": [
    "#install selenium\n",
    "!pip install selenium"
   ]
  },
  {
   "cell_type": "code",
   "execution_count": 2,
   "id": "eda2e2ff",
   "metadata": {},
   "outputs": [],
   "source": [
    "#importing required libraries/tools\n",
    "import selenium\n",
    "import pandas as pd\n",
    "from selenium import webdriver\n",
    "import warnings\n",
    "warnings.filterwarnings('ignore')\n",
    "from selenium.webdriver.common.by import By"
   ]
  },
  {
   "cell_type": "code",
   "execution_count": 3,
   "id": "d547b344",
   "metadata": {},
   "outputs": [],
   "source": [
    "# selecting Chrome browser\n",
    "driver = webdriver.Chrome()"
   ]
  },
  {
   "cell_type": "code",
   "execution_count": 5,
   "id": "7bf4abf1",
   "metadata": {},
   "outputs": [],
   "source": [
    "#getting into the website\n",
    "driver.get(\"https://www.naukri.com/\")"
   ]
  },
  {
   "cell_type": "code",
   "execution_count": 6,
   "id": "596910a1",
   "metadata": {},
   "outputs": [],
   "source": [
    "# searching for job title and location of job\n",
    "job_title=driver.find_element(By.CLASS_NAME,\"suggestor-input \")\n",
    "job_title.send_keys(\"Data Analyst\")"
   ]
  },
  {
   "cell_type": "code",
   "execution_count": 7,
   "id": "4bd7befd",
   "metadata": {},
   "outputs": [],
   "source": [
    "\n",
    "location=driver.find_element(By.XPATH,\"/html/body/div[1]/div[6]/div/div/div[5]/div/div/div/div[1]/div/input\")\n",
    "location.send_keys(\"Bangalore\")"
   ]
  },
  {
   "cell_type": "code",
   "execution_count": 8,
   "id": "475e04d1",
   "metadata": {},
   "outputs": [],
   "source": [
    "# for search \n",
    "search=driver.find_element(By.XPATH,\"/html/body/div[1]/div[6]/div/div/div[6]\")\n",
    "search.click()"
   ]
  },
  {
   "cell_type": "code",
   "execution_count": 9,
   "id": "cbca4f9d",
   "metadata": {},
   "outputs": [],
   "source": [
    "# for storing extracted data\n",
    "Job_title=[]\n",
    "Job_location=[]\n",
    "Company_name=[]\n",
    "Experience_required=[]"
   ]
  },
  {
   "cell_type": "code",
   "execution_count": 10,
   "id": "9882d0cc",
   "metadata": {},
   "outputs": [],
   "source": [
    "# scraping data for all four attributes\n",
    "\n",
    "title=driver.find_elements(By.CLASS_NAME,\"row1\")\n",
    "for i in title[0:10]:\n",
    "    title_tag=i.text\n",
    "    Job_title.append(title_tag)"
   ]
  },
  {
   "cell_type": "code",
   "execution_count": 11,
   "id": "3ec76bd7",
   "metadata": {},
   "outputs": [],
   "source": [
    "location=driver.find_elements(By.CLASS_NAME,\"locWdth\")\n",
    "for j in location[0:10]:\n",
    "    location_tag=j.text\n",
    "    Job_location.append(location_tag)"
   ]
  },
  {
   "cell_type": "code",
   "execution_count": 12,
   "id": "0201a379",
   "metadata": {},
   "outputs": [],
   "source": [
    "company=driver.find_elements(By.XPATH,'//div[@class=\" row2\"]/span/a[1]')\n",
    "for k in company[0:10]:\n",
    "    name=k.text\n",
    "    Company_name.append(name)"
   ]
  },
  {
   "cell_type": "code",
   "execution_count": 13,
   "id": "196e8c7d",
   "metadata": {},
   "outputs": [],
   "source": [
    "Experience=driver.find_elements(By.CLASS_NAME,\"expwdth\")\n",
    "for l in Experience[0:10]:\n",
    "    experience=l.text\n",
    "    Experience_required.append(experience)"
   ]
  },
  {
   "cell_type": "code",
   "execution_count": 14,
   "id": "d79466e2",
   "metadata": {},
   "outputs": [],
   "source": [
    "#creating dataframe and for scrapped data\n",
    "\n",
    "df2=pd.DataFrame({'Job-Title':Job_title,'Job-Location':Job_location,'Company-Name':Company_name,'Experience-Required':Experience_required})"
   ]
  },
  {
   "cell_type": "code",
   "execution_count": 15,
   "id": "27a6f63b",
   "metadata": {},
   "outputs": [
    {
     "data": {
      "text/html": [
       "<div>\n",
       "<style scoped>\n",
       "    .dataframe tbody tr th:only-of-type {\n",
       "        vertical-align: middle;\n",
       "    }\n",
       "\n",
       "    .dataframe tbody tr th {\n",
       "        vertical-align: top;\n",
       "    }\n",
       "\n",
       "    .dataframe thead th {\n",
       "        text-align: right;\n",
       "    }\n",
       "</style>\n",
       "<table border=\"1\" class=\"dataframe\">\n",
       "  <thead>\n",
       "    <tr style=\"text-align: right;\">\n",
       "      <th></th>\n",
       "      <th>Job-Title</th>\n",
       "      <th>Job-Location</th>\n",
       "      <th>Company-Name</th>\n",
       "      <th>Experience-Required</th>\n",
       "    </tr>\n",
       "  </thead>\n",
       "  <tbody>\n",
       "    <tr>\n",
       "      <th>0</th>\n",
       "      <td>Data Analyst</td>\n",
       "      <td>Bengaluru</td>\n",
       "      <td>Mensa Brand Technologies</td>\n",
       "      <td>2-4 Yrs</td>\n",
       "    </tr>\n",
       "    <tr>\n",
       "      <th>1</th>\n",
       "      <td>FP&amp;A Data Analyst</td>\n",
       "      <td>Pune, Bengaluru</td>\n",
       "      <td>Alphawave SEMI</td>\n",
       "      <td>2-5 Yrs</td>\n",
       "    </tr>\n",
       "    <tr>\n",
       "      <th>2</th>\n",
       "      <td>Data Analyst</td>\n",
       "      <td>Remote</td>\n",
       "      <td>Puresoftware</td>\n",
       "      <td>5-10 Yrs</td>\n",
       "    </tr>\n",
       "    <tr>\n",
       "      <th>3</th>\n",
       "      <td>Data Analyst</td>\n",
       "      <td>Hybrid - Bengaluru(Electronic City)</td>\n",
       "      <td>MNC (Permanent Role )</td>\n",
       "      <td>7-12 Yrs</td>\n",
       "    </tr>\n",
       "    <tr>\n",
       "      <th>4</th>\n",
       "      <td>Data Analyst</td>\n",
       "      <td>Bengaluru</td>\n",
       "      <td>Janes</td>\n",
       "      <td>0-3 Yrs</td>\n",
       "    </tr>\n",
       "    <tr>\n",
       "      <th>5</th>\n",
       "      <td></td>\n",
       "      <td>Kolkata, Mumbai, New Delhi, Hyderabad, Pune, C...</td>\n",
       "      <td>TELUS International</td>\n",
       "      <td>1-4 Yrs</td>\n",
       "    </tr>\n",
       "    <tr>\n",
       "      <th>6</th>\n",
       "      <td></td>\n",
       "      <td>Bengaluru</td>\n",
       "      <td>Zoom Info</td>\n",
       "      <td>4-8 Yrs</td>\n",
       "    </tr>\n",
       "    <tr>\n",
       "      <th>7</th>\n",
       "      <td></td>\n",
       "      <td>Hyderabad, Bengaluru</td>\n",
       "      <td>Team Lease Dgital</td>\n",
       "      <td>6-10 Yrs</td>\n",
       "    </tr>\n",
       "    <tr>\n",
       "      <th>8</th>\n",
       "      <td>Data Analyst(Python , Pyspark )_ MNC</td>\n",
       "      <td>Hyderabad, Bengaluru, Delhi / NCR</td>\n",
       "      <td>Tata Consultancy Services (TCS)</td>\n",
       "      <td>4-9 Yrs</td>\n",
       "    </tr>\n",
       "    <tr>\n",
       "      <th>9</th>\n",
       "      <td>Data Sourcing &amp; Triage Analyst</td>\n",
       "      <td>Bengaluru</td>\n",
       "      <td>Softtek</td>\n",
       "      <td>4-6 Yrs</td>\n",
       "    </tr>\n",
       "  </tbody>\n",
       "</table>\n",
       "</div>"
      ],
      "text/plain": [
       "                              Job-Title  \\\n",
       "0                          Data Analyst   \n",
       "1                     FP&A Data Analyst   \n",
       "2                          Data Analyst   \n",
       "3                          Data Analyst   \n",
       "4                          Data Analyst   \n",
       "5                                         \n",
       "6                                         \n",
       "7                                         \n",
       "8  Data Analyst(Python , Pyspark )_ MNC   \n",
       "9        Data Sourcing & Triage Analyst   \n",
       "\n",
       "                                        Job-Location  \\\n",
       "0                                          Bengaluru   \n",
       "1                                    Pune, Bengaluru   \n",
       "2                                             Remote   \n",
       "3                Hybrid - Bengaluru(Electronic City)   \n",
       "4                                          Bengaluru   \n",
       "5  Kolkata, Mumbai, New Delhi, Hyderabad, Pune, C...   \n",
       "6                                          Bengaluru   \n",
       "7                               Hyderabad, Bengaluru   \n",
       "8                  Hyderabad, Bengaluru, Delhi / NCR   \n",
       "9                                          Bengaluru   \n",
       "\n",
       "                      Company-Name Experience-Required  \n",
       "0         Mensa Brand Technologies             2-4 Yrs  \n",
       "1                   Alphawave SEMI             2-5 Yrs  \n",
       "2                     Puresoftware            5-10 Yrs  \n",
       "3            MNC (Permanent Role )            7-12 Yrs  \n",
       "4                            Janes             0-3 Yrs  \n",
       "5              TELUS International             1-4 Yrs  \n",
       "6                        Zoom Info             4-8 Yrs  \n",
       "7                Team Lease Dgital            6-10 Yrs  \n",
       "8  Tata Consultancy Services (TCS)             4-9 Yrs  \n",
       "9                          Softtek             4-6 Yrs  "
      ]
     },
     "execution_count": 15,
     "metadata": {},
     "output_type": "execute_result"
    }
   ],
   "source": [
    "df2"
   ]
  },
  {
   "cell_type": "markdown",
   "id": "1d826f11",
   "metadata": {},
   "source": [
    "# for further questions please open next file"
   ]
  },
  {
   "cell_type": "code",
   "execution_count": null,
   "id": "be04d245",
   "metadata": {},
   "outputs": [],
   "source": []
  }
 ],
 "metadata": {
  "kernelspec": {
   "display_name": "Python 3 (ipykernel)",
   "language": "python",
   "name": "python3"
  },
  "language_info": {
   "codemirror_mode": {
    "name": "ipython",
    "version": 3
   },
   "file_extension": ".py",
   "mimetype": "text/x-python",
   "name": "python",
   "nbconvert_exporter": "python",
   "pygments_lexer": "ipython3",
   "version": "3.11.3"
  }
 },
 "nbformat": 4,
 "nbformat_minor": 5
}
