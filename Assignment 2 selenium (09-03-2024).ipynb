{
 "cells": [
  {
   "cell_type": "markdown",
   "id": "bfe1df40",
   "metadata": {},
   "source": [
    "# Assignment 2 date-09/03/2024"
   ]
  },
  {
   "cell_type": "markdown",
   "id": "cacc272e",
   "metadata": {},
   "source": [
    "# Solution of question no- 1"
   ]
  },
  {
   "cell_type": "markdown",
   "id": "ff365d31",
   "metadata": {},
   "source": [
    "Q1: In this question you have to scrape data using the filters available on the webpage You have to use the location and salary filter.  \n",
    "You have to scrape data for “Data Scientist” designation for first 10 job results.  \n",
    "You have to scrape the job-title, job-location, company name, experience required.  The location filter to be used is “Delhi/NCR”. The salary filter to be used is “3-6” lakhs  \n",
    "The task will be done as shown in the below steps:  \n",
    "1.\tfirst get the web page https://www.naukri.com/ \n",
    "2.\tEnter “Data Scientist” in “Skill, Designations, and Companies” field.  \n",
    "3.\tThen click the search button.  \n",
    "4.\tThen apply the location filter and salary filter by checking the respective boxes  \n",
    "5.\tThen scrape the data for the first 10 jobs results you get.  \n",
    "6.\tFinally create a dataframe of the scraped data.  \n"
   ]
  },
  {
   "cell_type": "code",
   "execution_count": 2,
   "id": "22cfdcd7",
   "metadata": {},
   "outputs": [
    {
     "name": "stdout",
     "output_type": "stream",
     "text": [
      "Requirement already satisfied: selenium in c:\\users\\sharm\\anaconda3\\lib\\site-packages (4.18.1)\n",
      "Requirement already satisfied: urllib3[socks]<3,>=1.26 in c:\\users\\sharm\\anaconda3\\lib\\site-packages (from selenium) (1.26.16)\n",
      "Requirement already satisfied: trio~=0.17 in c:\\users\\sharm\\anaconda3\\lib\\site-packages (from selenium) (0.24.0)\n",
      "Requirement already satisfied: trio-websocket~=0.9 in c:\\users\\sharm\\anaconda3\\lib\\site-packages (from selenium) (0.11.1)\n",
      "Requirement already satisfied: certifi>=2021.10.8 in c:\\users\\sharm\\anaconda3\\lib\\site-packages (from selenium) (2023.5.7)\n",
      "Requirement already satisfied: typing_extensions>=4.9.0 in c:\\users\\sharm\\anaconda3\\lib\\site-packages (from selenium) (4.10.0)\n",
      "Requirement already satisfied: attrs>=20.1.0 in c:\\users\\sharm\\anaconda3\\lib\\site-packages (from trio~=0.17->selenium) (22.1.0)\n",
      "Requirement already satisfied: sortedcontainers in c:\\users\\sharm\\anaconda3\\lib\\site-packages (from trio~=0.17->selenium) (2.4.0)\n",
      "Requirement already satisfied: idna in c:\\users\\sharm\\anaconda3\\lib\\site-packages (from trio~=0.17->selenium) (3.4)\n",
      "Requirement already satisfied: outcome in c:\\users\\sharm\\anaconda3\\lib\\site-packages (from trio~=0.17->selenium) (1.3.0.post0)\n",
      "Requirement already satisfied: sniffio>=1.3.0 in c:\\users\\sharm\\anaconda3\\lib\\site-packages (from trio~=0.17->selenium) (1.3.1)\n",
      "Requirement already satisfied: cffi>=1.14 in c:\\users\\sharm\\anaconda3\\lib\\site-packages (from trio~=0.17->selenium) (1.15.1)\n",
      "Requirement already satisfied: wsproto>=0.14 in c:\\users\\sharm\\anaconda3\\lib\\site-packages (from trio-websocket~=0.9->selenium) (1.2.0)\n",
      "Requirement already satisfied: PySocks!=1.5.7,<2.0,>=1.5.6 in c:\\users\\sharm\\anaconda3\\lib\\site-packages (from urllib3[socks]<3,>=1.26->selenium) (1.7.1)\n",
      "Requirement already satisfied: pycparser in c:\\users\\sharm\\anaconda3\\lib\\site-packages (from cffi>=1.14->trio~=0.17->selenium) (2.21)\n",
      "Requirement already satisfied: h11<1,>=0.9.0 in c:\\users\\sharm\\anaconda3\\lib\\site-packages (from wsproto>=0.14->trio-websocket~=0.9->selenium) (0.14.0)\n"
     ]
    }
   ],
   "source": [
    "!pip install selenium"
   ]
  },
  {
   "cell_type": "code",
   "execution_count": 3,
   "id": "44fd0acb",
   "metadata": {},
   "outputs": [],
   "source": [
    "# calling important libraries/func\n",
    "import selenium\n",
    "import pandas as pd\n",
    "from selenium import webdriver\n",
    "import warnings\n",
    "warnings.filterwarnings('ignore')\n",
    "from selenium.webdriver.common.by import By"
   ]
  },
  {
   "cell_type": "code",
   "execution_count": 4,
   "id": "6b2ccc78",
   "metadata": {},
   "outputs": [],
   "source": [
    "#selection of chrome as browser\n",
    "driver=webdriver.Chrome()"
   ]
  },
  {
   "cell_type": "code",
   "execution_count": 5,
   "id": "792aa998",
   "metadata": {},
   "outputs": [],
   "source": [
    "# getting in to the website\n",
    "driver.get(\"https://www.naukri.com/\")"
   ]
  },
  {
   "cell_type": "code",
   "execution_count": 6,
   "id": "93456685",
   "metadata": {},
   "outputs": [],
   "source": [
    "driver.maximize_window()"
   ]
  },
  {
   "cell_type": "code",
   "execution_count": 7,
   "id": "d44e83c0",
   "metadata": {},
   "outputs": [],
   "source": [
    "#searching for jobtitle and location as per question\n",
    "job_title=driver.find_element(By.XPATH,\"/html/body/div[1]/div[7]/div/div/div[1]/div/div/div/div[1]/div/input\")\n",
    "job_title.send_keys(\"Data Scientist\")"
   ]
  },
  {
   "cell_type": "code",
   "execution_count": 8,
   "id": "89f88b1e",
   "metadata": {},
   "outputs": [],
   "source": [
    "search=driver.find_element(By.XPATH,\"/html/body/div[1]/div[6]/div/div/div[5]/div/div/div/div[1]/div/input\")\n",
    "search.click()"
   ]
  },
  {
   "cell_type": "code",
   "execution_count": 10,
   "id": "0fc86f95",
   "metadata": {},
   "outputs": [],
   "source": [
    "# applying filters by checking boxes for location & sallery\n",
    "\n",
    "location_box=driver.find_element(By.XPATH,\"/html/body/div/div/main/div[1]/div[1]/div/div/div[2]/div[5]/div[2]/div[3]/label/i\")\n",
    "location_box.click()"
   ]
  },
  {
   "cell_type": "code",
   "execution_count": 11,
   "id": "30908f67",
   "metadata": {},
   "outputs": [],
   "source": [
    "sallery_box=driver.find_element(By.XPATH,\"/html/body/div/div/main/div[1]/div[1]/div/div/div[2]/div[6]/div[2]/div[2]/label/i\")\n",
    "sallery_box.click()"
   ]
  },
  {
   "cell_type": "code",
   "execution_count": 17,
   "id": "d77520ee",
   "metadata": {},
   "outputs": [],
   "source": [
    "# for storing scraped data\n",
    "Job_Title=[]\n",
    "Job_location=[]\n",
    "Company_name=[]\n",
    "Experience_required=[]"
   ]
  },
  {
   "cell_type": "code",
   "execution_count": 19,
   "id": "4da77df8",
   "metadata": {},
   "outputs": [],
   "source": [
    "#scrapping top 10 data for reqiured attributes (job-title, job-location, company name, experience required)\n",
    "job_title=driver.find_elements(By.XPATH,'//div[@class=\" row1\"]/a')\n",
    "for i in job_title[0:10]:\n",
    "    title=i.text\n",
    "    Job_Title.append(title) "
   ]
  },
  {
   "cell_type": "code",
   "execution_count": 21,
   "id": "331c8eeb",
   "metadata": {},
   "outputs": [],
   "source": [
    "job_location=driver.find_elements(By.XPATH,'//span[@class=\"ni-job-tuple-icon ni-job-tuple-icon-srp-location loc\"]')\n",
    "for k in job_location[0:10]:\n",
    "    location=k.text\n",
    "    Job_location.append(location)\n",
    "    "
   ]
  },
  {
   "cell_type": "code",
   "execution_count": 22,
   "id": "b342eca6",
   "metadata": {},
   "outputs": [],
   "source": [
    "company_name=driver.find_elements(By.XPATH,'//a[@class=\" comp-name mw-25\"]')\n",
    "for j in company_name[0:10]:\n",
    "    company=j.text\n",
    "    Company_name.append(company)\n",
    "    "
   ]
  },
  {
   "cell_type": "code",
   "execution_count": 23,
   "id": "11ed50f5",
   "metadata": {},
   "outputs": [],
   "source": [
    "experience_required=driver.find_elements(By.XPATH,'//span[@class=\"expwdth\"]')\n",
    "for j in experience_required[0:10]:\n",
    "    experience=j.text\n",
    "    Experience_required.append(experience)\n"
   ]
  },
  {
   "cell_type": "code",
   "execution_count": 24,
   "id": "361a7e82",
   "metadata": {},
   "outputs": [
    {
     "name": "stdout",
     "output_type": "stream",
     "text": [
      "10 10 10 10\n"
     ]
    }
   ],
   "source": [
    "#checking lenths\n",
    "print(len(Job_Title),len(Job_location),len(Company_name),len(Experience_required))"
   ]
  },
  {
   "cell_type": "code",
   "execution_count": 25,
   "id": "8047c70e",
   "metadata": {},
   "outputs": [
    {
     "data": {
      "text/html": [
       "<div>\n",
       "<style scoped>\n",
       "    .dataframe tbody tr th:only-of-type {\n",
       "        vertical-align: middle;\n",
       "    }\n",
       "\n",
       "    .dataframe tbody tr th {\n",
       "        vertical-align: top;\n",
       "    }\n",
       "\n",
       "    .dataframe thead th {\n",
       "        text-align: right;\n",
       "    }\n",
       "</style>\n",
       "<table border=\"1\" class=\"dataframe\">\n",
       "  <thead>\n",
       "    <tr style=\"text-align: right;\">\n",
       "      <th></th>\n",
       "      <th>Job-Title</th>\n",
       "      <th>Job-location</th>\n",
       "      <th>Company-name</th>\n",
       "      <th>Experience_required</th>\n",
       "    </tr>\n",
       "  </thead>\n",
       "  <tbody>\n",
       "    <tr>\n",
       "      <th>0</th>\n",
       "      <td>Data Scientist HTHD</td>\n",
       "      <td>Kolkata, Mumbai, New Delhi, Hyderabad, Pune, C...</td>\n",
       "      <td>Ford</td>\n",
       "      <td>1-4 Yrs</td>\n",
       "    </tr>\n",
       "    <tr>\n",
       "      <th>1</th>\n",
       "      <td>Data Scientist</td>\n",
       "      <td>Mumbai, Hyderabad, Gurugram</td>\n",
       "      <td>Deloitte</td>\n",
       "      <td>3-6 Yrs</td>\n",
       "    </tr>\n",
       "    <tr>\n",
       "      <th>2</th>\n",
       "      <td>Data Scientist</td>\n",
       "      <td>Gurugram, Bengaluru</td>\n",
       "      <td>Blackbuck</td>\n",
       "      <td>3-7 Yrs</td>\n",
       "    </tr>\n",
       "    <tr>\n",
       "      <th>3</th>\n",
       "      <td></td>\n",
       "      <td>Kolkata, Mumbai, New Delhi, Hyderabad/Secunder...</td>\n",
       "      <td>Fort Technologies</td>\n",
       "      <td>3-7 Yrs</td>\n",
       "    </tr>\n",
       "    <tr>\n",
       "      <th>4</th>\n",
       "      <td></td>\n",
       "      <td>Kolkata, Mumbai, New Delhi, Hyderabad, Pune, C...</td>\n",
       "      <td>ZS Associates</td>\n",
       "      <td>1-3 Yrs</td>\n",
       "    </tr>\n",
       "    <tr>\n",
       "      <th>5</th>\n",
       "      <td></td>\n",
       "      <td>Pune, Gurugram</td>\n",
       "      <td>Innovaccer</td>\n",
       "      <td>2-4 Yrs</td>\n",
       "    </tr>\n",
       "    <tr>\n",
       "      <th>6</th>\n",
       "      <td>Data Scientist</td>\n",
       "      <td>Noida, Mumbai, Pune</td>\n",
       "      <td>Times Internet</td>\n",
       "      <td>4-7 Yrs</td>\n",
       "    </tr>\n",
       "    <tr>\n",
       "      <th>7</th>\n",
       "      <td>Data Scientist</td>\n",
       "      <td>Noida</td>\n",
       "      <td>The Scholar</td>\n",
       "      <td>2-7 Yrs</td>\n",
       "    </tr>\n",
       "    <tr>\n",
       "      <th>8</th>\n",
       "      <td>Lead Data Scientist</td>\n",
       "      <td>Noida</td>\n",
       "      <td>Acenet</td>\n",
       "      <td>3-8 Yrs</td>\n",
       "    </tr>\n",
       "    <tr>\n",
       "      <th>9</th>\n",
       "      <td>Data Scientist</td>\n",
       "      <td>Hyderabad, New Delhi, Pune, Gurugram, Bengaluru</td>\n",
       "      <td>Searchurcollege</td>\n",
       "      <td>3-8 Yrs</td>\n",
       "    </tr>\n",
       "  </tbody>\n",
       "</table>\n",
       "</div>"
      ],
      "text/plain": [
       "             Job-Title                                       Job-location  \\\n",
       "0  Data Scientist HTHD  Kolkata, Mumbai, New Delhi, Hyderabad, Pune, C...   \n",
       "1       Data Scientist                        Mumbai, Hyderabad, Gurugram   \n",
       "2       Data Scientist                                Gurugram, Bengaluru   \n",
       "3                       Kolkata, Mumbai, New Delhi, Hyderabad/Secunder...   \n",
       "4                       Kolkata, Mumbai, New Delhi, Hyderabad, Pune, C...   \n",
       "5                                                          Pune, Gurugram   \n",
       "6       Data Scientist                                Noida, Mumbai, Pune   \n",
       "7       Data Scientist                                              Noida   \n",
       "8  Lead Data Scientist                                              Noida   \n",
       "9       Data Scientist    Hyderabad, New Delhi, Pune, Gurugram, Bengaluru   \n",
       "\n",
       "        Company-name Experience_required  \n",
       "0               Ford             1-4 Yrs  \n",
       "1           Deloitte             3-6 Yrs  \n",
       "2          Blackbuck             3-7 Yrs  \n",
       "3  Fort Technologies             3-7 Yrs  \n",
       "4      ZS Associates             1-3 Yrs  \n",
       "5         Innovaccer             2-4 Yrs  \n",
       "6     Times Internet             4-7 Yrs  \n",
       "7        The Scholar             2-7 Yrs  \n",
       "8             Acenet             3-8 Yrs  \n",
       "9    Searchurcollege             3-8 Yrs  "
      ]
     },
     "execution_count": 25,
     "metadata": {},
     "output_type": "execute_result"
    }
   ],
   "source": [
    "df1=pd.DataFrame({\"Job-Title\":Job_Title,\"Job-location\":Job_location,\"Company-name\":Company_name,\"Experience_required\":Experience_required})\n",
    "df1"
   ]
  },
  {
   "cell_type": "markdown",
   "id": "efa048e9",
   "metadata": {},
   "source": [
    "# Solution for question-02"
   ]
  },
  {
   "cell_type": "markdown",
   "id": "112b6ce7",
   "metadata": {},
   "source": [
    "Q2: Write a python program to scrape data for “Data Scientist” Job position in “Bangalore” location. You have to scrape the job-title, job-location, company_name, experience_required. You have to scrape first 10 jobs data. \n",
    " This task will be done in following steps: \n",
    "1.\tFirst get the webpage https://www.shine.com/ \n",
    "2.\tEnter “Data Analyst” in “Job title, Skills” field and enter “Bangalore” in “enter the location” field. \n",
    "3.\tThen click the searchbutton.  \n",
    "4.\tThen scrape the data for the first 10 jobs results you get.  \n",
    "5.\tFinally create a dataframe of the scraped data\n"
   ]
  },
  {
   "cell_type": "code",
   "execution_count": 26,
   "id": "c89df090",
   "metadata": {},
   "outputs": [
    {
     "name": "stdout",
     "output_type": "stream",
     "text": [
      "Requirement already satisfied: selenium in c:\\users\\sharm\\anaconda3\\lib\\site-packages (4.18.1)\n",
      "Requirement already satisfied: urllib3[socks]<3,>=1.26 in c:\\users\\sharm\\anaconda3\\lib\\site-packages (from selenium) (1.26.16)\n",
      "Requirement already satisfied: trio~=0.17 in c:\\users\\sharm\\anaconda3\\lib\\site-packages (from selenium) (0.24.0)\n",
      "Requirement already satisfied: trio-websocket~=0.9 in c:\\users\\sharm\\anaconda3\\lib\\site-packages (from selenium) (0.11.1)\n",
      "Requirement already satisfied: certifi>=2021.10.8 in c:\\users\\sharm\\anaconda3\\lib\\site-packages (from selenium) (2023.5.7)\n",
      "Requirement already satisfied: typing_extensions>=4.9.0 in c:\\users\\sharm\\anaconda3\\lib\\site-packages (from selenium) (4.10.0)\n",
      "Requirement already satisfied: attrs>=20.1.0 in c:\\users\\sharm\\anaconda3\\lib\\site-packages (from trio~=0.17->selenium) (22.1.0)\n",
      "Requirement already satisfied: sortedcontainers in c:\\users\\sharm\\anaconda3\\lib\\site-packages (from trio~=0.17->selenium) (2.4.0)\n",
      "Requirement already satisfied: idna in c:\\users\\sharm\\anaconda3\\lib\\site-packages (from trio~=0.17->selenium) (3.4)\n",
      "Requirement already satisfied: outcome in c:\\users\\sharm\\anaconda3\\lib\\site-packages (from trio~=0.17->selenium) (1.3.0.post0)\n",
      "Requirement already satisfied: sniffio>=1.3.0 in c:\\users\\sharm\\anaconda3\\lib\\site-packages (from trio~=0.17->selenium) (1.3.1)\n",
      "Requirement already satisfied: cffi>=1.14 in c:\\users\\sharm\\anaconda3\\lib\\site-packages (from trio~=0.17->selenium) (1.15.1)\n",
      "Requirement already satisfied: wsproto>=0.14 in c:\\users\\sharm\\anaconda3\\lib\\site-packages (from trio-websocket~=0.9->selenium) (1.2.0)\n",
      "Requirement already satisfied: PySocks!=1.5.7,<2.0,>=1.5.6 in c:\\users\\sharm\\anaconda3\\lib\\site-packages (from urllib3[socks]<3,>=1.26->selenium) (1.7.1)\n",
      "Requirement already satisfied: pycparser in c:\\users\\sharm\\anaconda3\\lib\\site-packages (from cffi>=1.14->trio~=0.17->selenium) (2.21)\n",
      "Requirement already satisfied: h11<1,>=0.9.0 in c:\\users\\sharm\\anaconda3\\lib\\site-packages (from wsproto>=0.14->trio-websocket~=0.9->selenium) (0.14.0)\n"
     ]
    }
   ],
   "source": [
    "!pip install selenium"
   ]
  },
  {
   "cell_type": "code",
   "execution_count": 27,
   "id": "c408e1cd",
   "metadata": {},
   "outputs": [],
   "source": [
    "# calling important libraries/functions\n",
    "import selenium\n",
    "import pandas as pd\n",
    "from selenium import webdriver\n",
    "import warnings\n",
    "warnings.filterwarnings('ignore')\n",
    "from selenium.webdriver.common.by import By"
   ]
  },
  {
   "cell_type": "code",
   "execution_count": 28,
   "id": "8944b9da",
   "metadata": {},
   "outputs": [],
   "source": [
    "#selection of chrome as browser\n",
    "driver=webdriver.Chrome()"
   ]
  },
  {
   "cell_type": "code",
   "execution_count": 30,
   "id": "f409dae0",
   "metadata": {},
   "outputs": [],
   "source": [
    "# opening the naukri page on automated chrome browser\n",
    "driver.get(\"https://www.shine.com/\")"
   ]
  },
  {
   "cell_type": "code",
   "execution_count": 31,
   "id": "fcece0b6",
   "metadata": {},
   "outputs": [],
   "source": [
    "driver.maximize_window()"
   ]
  },
  {
   "cell_type": "code",
   "execution_count": 33,
   "id": "629f5e9b",
   "metadata": {},
   "outputs": [],
   "source": [
    "#searching for jobtitle and location as per question\n",
    "job_title=driver.find_element(By.XPATH,\"/html/body/div/div[4]/div/div[2]/div[2]/div/form/div/div[1]/ul/li[1]/div/input\")\n",
    "job_title.send_keys(\"Data Scientist\")"
   ]
  },
  {
   "cell_type": "code",
   "execution_count": 34,
   "id": "9dbeae4c",
   "metadata": {},
   "outputs": [],
   "source": [
    "job_location=driver.find_element(By.XPATH,\"/html/body/div/div[4]/div/div[2]/div[2]/div/form/div/div[1]/ul/li[2]/div/input\")\n",
    "job_location.send_keys(\"Bangalore\")"
   ]
  },
  {
   "cell_type": "code",
   "execution_count": 35,
   "id": "3441bbbe",
   "metadata": {},
   "outputs": [],
   "source": [
    "search=driver.find_element(By.XPATH,\"/html/body/div/div[4]/div/div[2]/div[2]/div/form/div/div[2]/div/button\")\n",
    "search.click()"
   ]
  },
  {
   "cell_type": "code",
   "execution_count": 36,
   "id": "26166b1c",
   "metadata": {},
   "outputs": [],
   "source": [
    "# for storing scraped data\n",
    "Job_Title=[]\n",
    "Job_Location=[]\n",
    "Company_name=[]\n",
    "Experience_required=[]"
   ]
  },
  {
   "cell_type": "code",
   "execution_count": 37,
   "id": "1f4c12d3",
   "metadata": {},
   "outputs": [],
   "source": [
    "#scrapping top 10 data for reqiured attributes (job-title, job-location, company name, experience required)\n",
    "job_title=driver.find_elements(By.XPATH,'//h2[@itemprop=\"name\"]/a')\n",
    "for i in job_title[0:10]:\n",
    "    title=i.text\n",
    "    Job_Title.append(title)\n",
    "    "
   ]
  },
  {
   "cell_type": "code",
   "execution_count": 38,
   "id": "ccc2a42b",
   "metadata": {},
   "outputs": [],
   "source": [
    "job_location=driver.find_elements(By.XPATH,'//div[@class=\" jobCard_jobCard_lists_item__YxRkV jobCard_locationIcon__zrWt2\"]')\n",
    "for k in job_location[0:10]:\n",
    "    location=k.text\n",
    "    Job_Location.append(location)\n",
    "    "
   ]
  },
  {
   "cell_type": "code",
   "execution_count": 39,
   "id": "338dfc0c",
   "metadata": {},
   "outputs": [],
   "source": [
    "company_name=driver.find_elements(By.XPATH,'//div[@class=\"jobCard_jobCard_cName__mYnow\"]/span')\n",
    "for j in company_name[0:10]:\n",
    "    company=j.text\n",
    "    Company_name.append(company)"
   ]
  },
  {
   "cell_type": "code",
   "execution_count": 40,
   "id": "a8c2b41d",
   "metadata": {},
   "outputs": [],
   "source": [
    "experience_required=driver.find_elements(By.XPATH,'//div[@class=\" jobCard_jobCard_lists_item__YxRkV jobCard_jobIcon__3FB1t\"]')\n",
    "for j in experience_required[0:10]:\n",
    "    experience=j.text\n",
    "    Experience_required.append(experience)\n",
    "    Experience_required"
   ]
  },
  {
   "cell_type": "code",
   "execution_count": 41,
   "id": "121106e6",
   "metadata": {},
   "outputs": [
    {
     "name": "stdout",
     "output_type": "stream",
     "text": [
      "10 10 10 10\n"
     ]
    }
   ],
   "source": [
    "#checking lenths\n",
    "print(len(Job_Title),len(Job_Location),len(Company_name),len(Experience_required))"
   ]
  },
  {
   "cell_type": "code",
   "execution_count": 42,
   "id": "6fcc7a9c",
   "metadata": {},
   "outputs": [
    {
     "data": {
      "text/html": [
       "<div>\n",
       "<style scoped>\n",
       "    .dataframe tbody tr th:only-of-type {\n",
       "        vertical-align: middle;\n",
       "    }\n",
       "\n",
       "    .dataframe tbody tr th {\n",
       "        vertical-align: top;\n",
       "    }\n",
       "\n",
       "    .dataframe thead th {\n",
       "        text-align: right;\n",
       "    }\n",
       "</style>\n",
       "<table border=\"1\" class=\"dataframe\">\n",
       "  <thead>\n",
       "    <tr style=\"text-align: right;\">\n",
       "      <th></th>\n",
       "      <th>Job-title</th>\n",
       "      <th>Job-location</th>\n",
       "      <th>Company-name</th>\n",
       "      <th>Experience_required</th>\n",
       "    </tr>\n",
       "  </thead>\n",
       "  <tbody>\n",
       "    <tr>\n",
       "      <th>0</th>\n",
       "      <td>Data Scientist Opening</td>\n",
       "      <td>Bangalore\\n+15</td>\n",
       "      <td>renuka interprises</td>\n",
       "      <td>0 to 4 Yrs</td>\n",
       "    </tr>\n",
       "    <tr>\n",
       "      <th>1</th>\n",
       "      <td>Data Scientist Opening</td>\n",
       "      <td>Bangalore\\n+15</td>\n",
       "      <td>renuka interprises</td>\n",
       "      <td>0 to 4 Yrs</td>\n",
       "    </tr>\n",
       "    <tr>\n",
       "      <th>2</th>\n",
       "      <td>Data Scientist Recruitment</td>\n",
       "      <td>Bangalore\\n+9</td>\n",
       "      <td>radhika enterprises</td>\n",
       "      <td>0 to 4 Yrs</td>\n",
       "    </tr>\n",
       "    <tr>\n",
       "      <th>3</th>\n",
       "      <td>Data Scientist</td>\n",
       "      <td>Bangalore\\n+8</td>\n",
       "      <td>techno endura</td>\n",
       "      <td>0 to 2 Yrs</td>\n",
       "    </tr>\n",
       "    <tr>\n",
       "      <th>4</th>\n",
       "      <td>ML Data Scientist</td>\n",
       "      <td>Bangalore\\n+3</td>\n",
       "      <td>gujarat facility services hiring fo...</td>\n",
       "      <td>5 to 8 Yrs</td>\n",
       "    </tr>\n",
       "    <tr>\n",
       "      <th>5</th>\n",
       "      <td>Data Scientist Urgent Vacancy</td>\n",
       "      <td>Bangalore\\n+15</td>\n",
       "      <td>renuka interprises</td>\n",
       "      <td>0 to 4 Yrs</td>\n",
       "    </tr>\n",
       "    <tr>\n",
       "      <th>6</th>\n",
       "      <td>Data Scientist</td>\n",
       "      <td>Bangalore\\n+4</td>\n",
       "      <td>acme services private limited</td>\n",
       "      <td>3 to 5 Yrs</td>\n",
       "    </tr>\n",
       "    <tr>\n",
       "      <th>7</th>\n",
       "      <td>Data Scientist Recruitment</td>\n",
       "      <td>Bangalore\\n+15</td>\n",
       "      <td>renuka interprises</td>\n",
       "      <td>0 to 4 Yrs</td>\n",
       "    </tr>\n",
       "    <tr>\n",
       "      <th>8</th>\n",
       "      <td>Data Scientist Recruitment</td>\n",
       "      <td>Bangalore\\n+15</td>\n",
       "      <td>renuka interprises</td>\n",
       "      <td>0 to 4 Yrs</td>\n",
       "    </tr>\n",
       "    <tr>\n",
       "      <th>9</th>\n",
       "      <td>Clinical Data Associate</td>\n",
       "      <td>Bangalore\\n+6</td>\n",
       "      <td>techno endura</td>\n",
       "      <td>0 to 1 Yr</td>\n",
       "    </tr>\n",
       "  </tbody>\n",
       "</table>\n",
       "</div>"
      ],
      "text/plain": [
       "                       Job-title    Job-location  \\\n",
       "0         Data Scientist Opening  Bangalore\\n+15   \n",
       "1         Data Scientist Opening  Bangalore\\n+15   \n",
       "2     Data Scientist Recruitment   Bangalore\\n+9   \n",
       "3                 Data Scientist   Bangalore\\n+8   \n",
       "4              ML Data Scientist   Bangalore\\n+3   \n",
       "5  Data Scientist Urgent Vacancy  Bangalore\\n+15   \n",
       "6                 Data Scientist   Bangalore\\n+4   \n",
       "7     Data Scientist Recruitment  Bangalore\\n+15   \n",
       "8     Data Scientist Recruitment  Bangalore\\n+15   \n",
       "9        Clinical Data Associate   Bangalore\\n+6   \n",
       "\n",
       "                             Company-name Experience_required  \n",
       "0                      renuka interprises          0 to 4 Yrs  \n",
       "1                      renuka interprises          0 to 4 Yrs  \n",
       "2                     radhika enterprises          0 to 4 Yrs  \n",
       "3                           techno endura          0 to 2 Yrs  \n",
       "4  gujarat facility services hiring fo...          5 to 8 Yrs  \n",
       "5                      renuka interprises          0 to 4 Yrs  \n",
       "6           acme services private limited          3 to 5 Yrs  \n",
       "7                      renuka interprises          0 to 4 Yrs  \n",
       "8                      renuka interprises          0 to 4 Yrs  \n",
       "9                           techno endura           0 to 1 Yr  "
      ]
     },
     "execution_count": 42,
     "metadata": {},
     "output_type": "execute_result"
    }
   ],
   "source": [
    "Df2=pd.DataFrame({\"Job-title\":Job_Title,\"Job-location\":Job_Location,\"Company-name\":Company_name,\"Experience_required\":Experience_required})\n",
    "Df2"
   ]
  },
  {
   "cell_type": "markdown",
   "id": "15e5d641",
   "metadata": {},
   "source": [
    "# Solution for question no. 03"
   ]
  },
  {
   "cell_type": "markdown",
   "id": "c35eef42",
   "metadata": {},
   "source": [
    "Scrape 100 reviews data from flipkart.com for iphone11 phone. You have to go the link: https://www.flipkart.com/apple-iphone-11-black-64-gb/product-\n",
    "reviews/itm4e5041ba101fd?pid=MOBFWQ6BXGJCEYNY&lid=LSTMOBFWQ6BXGJCEYNYZXSHRJ&marketplace=F LIPKART \n",
    "  \n",
    "  \n",
    " \n",
    "As shown in the above page you have to scrape the tick marked attributes. These are: \n",
    "1.\tRating \n",
    "2.\tReview summary \n",
    "3.\tFull review \n",
    "4.\tYou have to scrape this data for first 100reviews. \n"
   ]
  },
  {
   "cell_type": "code",
   "execution_count": 1,
   "id": "4ad8011c",
   "metadata": {},
   "outputs": [
    {
     "name": "stdout",
     "output_type": "stream",
     "text": [
      "Requirement already satisfied: selenium in c:\\users\\sharm\\anaconda3\\lib\\site-packages (4.18.1)\n",
      "Requirement already satisfied: urllib3[socks]<3,>=1.26 in c:\\users\\sharm\\anaconda3\\lib\\site-packages (from selenium) (1.26.16)\n",
      "Requirement already satisfied: trio~=0.17 in c:\\users\\sharm\\anaconda3\\lib\\site-packages (from selenium) (0.24.0)\n",
      "Requirement already satisfied: trio-websocket~=0.9 in c:\\users\\sharm\\anaconda3\\lib\\site-packages (from selenium) (0.11.1)\n",
      "Requirement already satisfied: certifi>=2021.10.8 in c:\\users\\sharm\\anaconda3\\lib\\site-packages (from selenium) (2023.5.7)\n",
      "Requirement already satisfied: typing_extensions>=4.9.0 in c:\\users\\sharm\\anaconda3\\lib\\site-packages (from selenium) (4.10.0)\n",
      "Requirement already satisfied: attrs>=20.1.0 in c:\\users\\sharm\\anaconda3\\lib\\site-packages (from trio~=0.17->selenium) (22.1.0)\n",
      "Requirement already satisfied: sortedcontainers in c:\\users\\sharm\\anaconda3\\lib\\site-packages (from trio~=0.17->selenium) (2.4.0)\n",
      "Requirement already satisfied: idna in c:\\users\\sharm\\anaconda3\\lib\\site-packages (from trio~=0.17->selenium) (3.4)\n",
      "Requirement already satisfied: outcome in c:\\users\\sharm\\anaconda3\\lib\\site-packages (from trio~=0.17->selenium) (1.3.0.post0)\n",
      "Requirement already satisfied: sniffio>=1.3.0 in c:\\users\\sharm\\anaconda3\\lib\\site-packages (from trio~=0.17->selenium) (1.3.1)\n",
      "Requirement already satisfied: cffi>=1.14 in c:\\users\\sharm\\anaconda3\\lib\\site-packages (from trio~=0.17->selenium) (1.15.1)\n",
      "Requirement already satisfied: wsproto>=0.14 in c:\\users\\sharm\\anaconda3\\lib\\site-packages (from trio-websocket~=0.9->selenium) (1.2.0)\n",
      "Requirement already satisfied: PySocks!=1.5.7,<2.0,>=1.5.6 in c:\\users\\sharm\\anaconda3\\lib\\site-packages (from urllib3[socks]<3,>=1.26->selenium) (1.7.1)\n",
      "Requirement already satisfied: pycparser in c:\\users\\sharm\\anaconda3\\lib\\site-packages (from cffi>=1.14->trio~=0.17->selenium) (2.21)\n",
      "Requirement already satisfied: h11<1,>=0.9.0 in c:\\users\\sharm\\anaconda3\\lib\\site-packages (from wsproto>=0.14->trio-websocket~=0.9->selenium) (0.14.0)\n"
     ]
    }
   ],
   "source": [
    "!pip install selenium"
   ]
  },
  {
   "cell_type": "code",
   "execution_count": 1,
   "id": "39a9f2bd",
   "metadata": {},
   "outputs": [],
   "source": [
    "# calling important libraries/functions\n",
    "import selenium\n",
    "import pandas as pd\n",
    "from selenium import webdriver\n",
    "from time import sleep\n",
    "import warnings\n",
    "warnings.filterwarnings('ignore')\n",
    "from selenium.webdriver.common.by import By"
   ]
  },
  {
   "cell_type": "code",
   "execution_count": 3,
   "id": "41965337",
   "metadata": {},
   "outputs": [],
   "source": [
    "#selection of chrome as browser\n",
    "driver=webdriver.Chrome()"
   ]
  },
  {
   "cell_type": "code",
   "execution_count": 4,
   "id": "e2aa0f90",
   "metadata": {},
   "outputs": [],
   "source": [
    "# getting in to the website\n",
    "driver.get(\"https://www.flipkart.com/apple-iphone-15-black-128-gb/p/itm6ac6485515ae4?pid=MOBGTAGPTB3VS24W&lid=LSTMOBGTAGPTB3VS24WVZNSC6&marketplace=FLIPKART&q=iphone+15&store=tyy/4io&srno=s_1_2&otracker=AS_QueryStore_OrganicAutoSuggest_1_2_na_na_na&otracker1=AS_QueryStore_OrganicAutoSuggest_1_2_na_na_na&fm=organic&iid=b596c120-8114-44e8-9819-0b4dee130fa9.MOBGTAGPTB3VS24W.SEARCH&ppt=hp&ppn=homepage&ssid=s3c8i7dsvk0000001710403029549&qH=2f54b45b321e3ae5\")"
   ]
  },
  {
   "cell_type": "code",
   "execution_count": 5,
   "id": "34565be6",
   "metadata": {},
   "outputs": [],
   "source": [
    "driver.maximize_window()"
   ]
  },
  {
   "cell_type": "code",
   "execution_count": 6,
   "id": "4bbafeda",
   "metadata": {},
   "outputs": [],
   "source": [
    "# for storing scraped data\n",
    "Ratings=[]\n",
    "Review_summary =[]\n",
    "Full_review=[]"
   ]
  },
  {
   "cell_type": "code",
   "execution_count": 7,
   "id": "1a043fa7",
   "metadata": {},
   "outputs": [],
   "source": [
    "# scraping data for all three attributes page by page\n",
    "\n",
    "for y in range(0,10):\n",
    "    rating=driver.find_elements(By.XPATH,'//div[@class=\"_3LWZlK _1BLPMq\"]')\n",
    "    for i in rating:\n",
    "        it=i.text\n",
    "        Ratings.append(it)\n",
    "    Ratings[0:100]\n",
    "        \n",
    "\n",
    "    review_summary=driver.find_elements(By.XPATH,'//p[@class=\"_2-N8zT\"]')\n",
    "    for j in review_summary:\n",
    "        jt=j.text\n",
    "        Review_summary.append(jt) \n",
    "    Review_summary[0:100]\n",
    "    \n",
    "    full_review=driver.find_elements(By.XPATH,'//div[@class=\"t-ZTKy\"]')\n",
    "    for k in full_review:\n",
    "        kt=k.text\n",
    "        Full_review.append(kt)\n",
    "    Full_review[0:100]\n",
    "    \n",
    "    next_button=driver.find_element(By.XPATH,'/html/body/div[1]/div/div[3]/div/div/div[2]/div[13]/div/div/nav/a[11]')\n",
    "    next_button.click()\n",
    "    sleep(2)\n",
    "    \n",
    "   \n",
    "    "
   ]
  },
  {
   "cell_type": "code",
   "execution_count": 10,
   "id": "295dd18c",
   "metadata": {},
   "outputs": [
    {
     "name": "stdout",
     "output_type": "stream",
     "text": [
      "100 100 100\n"
     ]
    }
   ],
   "source": [
    "print(len(Ratings),len(Review_summary),len(Full_review))"
   ]
  },
  {
   "cell_type": "code",
   "execution_count": 11,
   "id": "16fa6720",
   "metadata": {},
   "outputs": [
    {
     "data": {
      "text/html": [
       "<div>\n",
       "<style scoped>\n",
       "    .dataframe tbody tr th:only-of-type {\n",
       "        vertical-align: middle;\n",
       "    }\n",
       "\n",
       "    .dataframe tbody tr th {\n",
       "        vertical-align: top;\n",
       "    }\n",
       "\n",
       "    .dataframe thead th {\n",
       "        text-align: right;\n",
       "    }\n",
       "</style>\n",
       "<table border=\"1\" class=\"dataframe\">\n",
       "  <thead>\n",
       "    <tr style=\"text-align: right;\">\n",
       "      <th></th>\n",
       "      <th>Rating</th>\n",
       "      <th>Review-summary</th>\n",
       "      <th>Full-review</th>\n",
       "    </tr>\n",
       "  </thead>\n",
       "  <tbody>\n",
       "    <tr>\n",
       "      <th>0</th>\n",
       "      <td>5</td>\n",
       "      <td>Just wow!</td>\n",
       "      <td>Camera Quality Is Improved Loving It</td>\n",
       "    </tr>\n",
       "    <tr>\n",
       "      <th>1</th>\n",
       "      <td>5</td>\n",
       "      <td>Mind-blowing purchase</td>\n",
       "      <td>High quality camera😍</td>\n",
       "    </tr>\n",
       "    <tr>\n",
       "      <th>2</th>\n",
       "      <td>5</td>\n",
       "      <td>Classy product</td>\n",
       "      <td>Nice ❤️</td>\n",
       "    </tr>\n",
       "    <tr>\n",
       "      <th>3</th>\n",
       "      <td>5</td>\n",
       "      <td>Highly recommended</td>\n",
       "      <td>I love this phone. The camera is amazing: its ...</td>\n",
       "    </tr>\n",
       "    <tr>\n",
       "      <th>4</th>\n",
       "      <td>4</td>\n",
       "      <td>Good choice</td>\n",
       "      <td>Very nice</td>\n",
       "    </tr>\n",
       "    <tr>\n",
       "      <th>...</th>\n",
       "      <td>...</td>\n",
       "      <td>...</td>\n",
       "      <td>...</td>\n",
       "    </tr>\n",
       "    <tr>\n",
       "      <th>95</th>\n",
       "      <td>4</td>\n",
       "      <td>Nice product</td>\n",
       "      <td>Mobile gets heat up as soon as put it on the c...</td>\n",
       "    </tr>\n",
       "    <tr>\n",
       "      <th>96</th>\n",
       "      <td>5</td>\n",
       "      <td>Must buy!</td>\n",
       "      <td>Lovely !!</td>\n",
       "    </tr>\n",
       "    <tr>\n",
       "      <th>97</th>\n",
       "      <td>5</td>\n",
       "      <td>Wonderful</td>\n",
       "      <td>GREAT PRODUCT</td>\n",
       "    </tr>\n",
       "    <tr>\n",
       "      <th>98</th>\n",
       "      <td>4</td>\n",
       "      <td>Pretty good</td>\n",
       "      <td>wonderful product</td>\n",
       "    </tr>\n",
       "    <tr>\n",
       "      <th>99</th>\n",
       "      <td>4</td>\n",
       "      <td>Nice product</td>\n",
       "      <td>Good</td>\n",
       "    </tr>\n",
       "  </tbody>\n",
       "</table>\n",
       "<p>100 rows × 3 columns</p>\n",
       "</div>"
      ],
      "text/plain": [
       "   Rating         Review-summary  \\\n",
       "0       5              Just wow!   \n",
       "1       5  Mind-blowing purchase   \n",
       "2       5         Classy product   \n",
       "3       5     Highly recommended   \n",
       "4       4            Good choice   \n",
       "..    ...                    ...   \n",
       "95      4           Nice product   \n",
       "96      5              Must buy!   \n",
       "97      5              Wonderful   \n",
       "98      4            Pretty good   \n",
       "99      4           Nice product   \n",
       "\n",
       "                                          Full-review  \n",
       "0                Camera Quality Is Improved Loving It  \n",
       "1                                High quality camera😍  \n",
       "2                                             Nice ❤️  \n",
       "3   I love this phone. The camera is amazing: its ...  \n",
       "4                                           Very nice  \n",
       "..                                                ...  \n",
       "95  Mobile gets heat up as soon as put it on the c...  \n",
       "96                                          Lovely !!  \n",
       "97                                      GREAT PRODUCT  \n",
       "98                                  wonderful product  \n",
       "99                                               Good  \n",
       "\n",
       "[100 rows x 3 columns]"
      ]
     },
     "execution_count": 11,
     "metadata": {},
     "output_type": "execute_result"
    }
   ],
   "source": [
    "df3=pd.DataFrame({\"Rating\":Ratings,\"Review-summary\":Review_summary,\"Full-review\":Full_review})\n",
    "df3"
   ]
  },
  {
   "cell_type": "markdown",
   "id": "83d9d52e",
   "metadata": {},
   "source": [
    "# Solution for question no 4"
   ]
  },
  {
   "cell_type": "markdown",
   "id": "f1b813b9",
   "metadata": {},
   "source": [
    "Q4: Scrape data for first 100 sneakers you find when you visit flipkart.com and search for “sneakers” in the search field. \n",
    "You have to scrape 3 attributes of each sneaker: \n",
    "1.\tBrand \n",
    "2.\tProduct Description \n",
    "3.\tPrice \n",
    "As shown in the below image, you have to scrape the above attributes. \n",
    " \n",
    " \n",
    " \n"
   ]
  },
  {
   "cell_type": "code",
   "execution_count": 77,
   "id": "02a5b05d",
   "metadata": {},
   "outputs": [
    {
     "name": "stdout",
     "output_type": "stream",
     "text": [
      "Requirement already satisfied: selenium in c:\\users\\sharm\\anaconda3\\lib\\site-packages (4.18.1)\n",
      "Requirement already satisfied: urllib3[socks]<3,>=1.26 in c:\\users\\sharm\\anaconda3\\lib\\site-packages (from selenium) (1.26.16)\n",
      "Requirement already satisfied: trio~=0.17 in c:\\users\\sharm\\anaconda3\\lib\\site-packages (from selenium) (0.24.0)\n",
      "Requirement already satisfied: trio-websocket~=0.9 in c:\\users\\sharm\\anaconda3\\lib\\site-packages (from selenium) (0.11.1)\n",
      "Requirement already satisfied: certifi>=2021.10.8 in c:\\users\\sharm\\anaconda3\\lib\\site-packages (from selenium) (2023.5.7)\n",
      "Requirement already satisfied: typing_extensions>=4.9.0 in c:\\users\\sharm\\anaconda3\\lib\\site-packages (from selenium) (4.10.0)\n",
      "Requirement already satisfied: attrs>=20.1.0 in c:\\users\\sharm\\anaconda3\\lib\\site-packages (from trio~=0.17->selenium) (22.1.0)\n",
      "Requirement already satisfied: sortedcontainers in c:\\users\\sharm\\anaconda3\\lib\\site-packages (from trio~=0.17->selenium) (2.4.0)\n",
      "Requirement already satisfied: idna in c:\\users\\sharm\\anaconda3\\lib\\site-packages (from trio~=0.17->selenium) (3.4)\n",
      "Requirement already satisfied: outcome in c:\\users\\sharm\\anaconda3\\lib\\site-packages (from trio~=0.17->selenium) (1.3.0.post0)\n",
      "Requirement already satisfied: sniffio>=1.3.0 in c:\\users\\sharm\\anaconda3\\lib\\site-packages (from trio~=0.17->selenium) (1.3.1)\n",
      "Requirement already satisfied: cffi>=1.14 in c:\\users\\sharm\\anaconda3\\lib\\site-packages (from trio~=0.17->selenium) (1.15.1)\n",
      "Requirement already satisfied: wsproto>=0.14 in c:\\users\\sharm\\anaconda3\\lib\\site-packages (from trio-websocket~=0.9->selenium) (1.2.0)\n",
      "Requirement already satisfied: PySocks!=1.5.7,<2.0,>=1.5.6 in c:\\users\\sharm\\anaconda3\\lib\\site-packages (from urllib3[socks]<3,>=1.26->selenium) (1.7.1)\n",
      "Requirement already satisfied: pycparser in c:\\users\\sharm\\anaconda3\\lib\\site-packages (from cffi>=1.14->trio~=0.17->selenium) (2.21)\n",
      "Requirement already satisfied: h11<1,>=0.9.0 in c:\\users\\sharm\\anaconda3\\lib\\site-packages (from wsproto>=0.14->trio-websocket~=0.9->selenium) (0.14.0)\n"
     ]
    }
   ],
   "source": [
    "!pip install selenium"
   ]
  },
  {
   "cell_type": "code",
   "execution_count": 78,
   "id": "e652067a",
   "metadata": {},
   "outputs": [],
   "source": [
    "# calling important libraries/functions\n",
    "import selenium\n",
    "import pandas as pd\n",
    "from selenium import webdriver\n",
    "from time import sleep\n",
    "import warnings\n",
    "warnings.filterwarnings('ignore')\n",
    "from selenium.webdriver.common.by import By"
   ]
  },
  {
   "cell_type": "code",
   "execution_count": 79,
   "id": "70b809d6",
   "metadata": {},
   "outputs": [],
   "source": [
    "#selection of chrome as browser\n",
    "driver=webdriver.Chrome()"
   ]
  },
  {
   "cell_type": "code",
   "execution_count": 80,
   "id": "33332efb",
   "metadata": {},
   "outputs": [],
   "source": [
    "# getting in to the website\n",
    "driver.get(\"https://www.flipkart.com/\")"
   ]
  },
  {
   "cell_type": "code",
   "execution_count": 81,
   "id": "255724a7",
   "metadata": {},
   "outputs": [],
   "source": [
    "driver.maximize_window()"
   ]
  },
  {
   "cell_type": "code",
   "execution_count": 82,
   "id": "a4f4ae11",
   "metadata": {},
   "outputs": [],
   "source": [
    "store=driver.find_element(By.XPATH,\"/html/body/div[1]/div/div[1]/div/div/div/div/div[1]/div/div/div/div[1]/div[1]/header/div[2]/div[3]/div/a[1]/img\")\n",
    "store.click()"
   ]
  },
  {
   "cell_type": "code",
   "execution_count": 83,
   "id": "82182e96",
   "metadata": {},
   "outputs": [],
   "source": [
    "#searching for sneakers\n",
    "sneakers=driver.find_element(By.XPATH,\"/html/body/div/div/div[1]/div[1]/div[2]/div[2]/form/div/div/input\")\n",
    "sneakers.send_keys(\"sneakers\")\n"
   ]
  },
  {
   "cell_type": "code",
   "execution_count": 84,
   "id": "6d256e66",
   "metadata": {},
   "outputs": [],
   "source": [
    "# for clicking on search\n",
    "search=driver.find_element(By.CLASS_NAME,\"L0Z3Pu\")\n",
    "search.click()"
   ]
  },
  {
   "cell_type": "code",
   "execution_count": 92,
   "id": "0e5d73d5",
   "metadata": {},
   "outputs": [],
   "source": [
    "# for storing scraped data\n",
    "Brand=[]\n",
    "Product_discription=[]\n",
    "Price=[]"
   ]
  },
  {
   "cell_type": "code",
   "execution_count": 94,
   "id": "de2ed190",
   "metadata": {},
   "outputs": [],
   "source": [
    "start=0\n",
    "end=4\n",
    "\n",
    "for page in range(start,end):\n",
    "    brand=driver.find_elements(By.XPATH,'//div[@class=\"_2WkVRV\"]')\n",
    "    for i in brand:\n",
    "        it=i.text\n",
    "        Brand.append(it)\n",
    "    \n",
    "    \n",
    "    disc=driver.find_elements(By.XPATH,'//a[@class=\"IRpwTa\"]')\n",
    "    for j in disc:\n",
    "        jt=j.text\n",
    "        Product_discription.append(jt)\n",
    "    \n",
    "    \n",
    "    price=driver.find_elements(By.XPATH,'//div[@class=\"_30jeq3\"]')\n",
    "    for k in price:\n",
    "        kt=k.text\n",
    "        Price.append(kt)\n",
    "    \n",
    "        \n",
    "    next_button=driver.find_element(By.XPATH,'/html/body/div/div/div[3]/div[1]/div[2]/div[12]/div/div/nav/a[11]')\n",
    "    next_button.click()\n",
    "    sleep(1)"
   ]
  },
  {
   "cell_type": "code",
   "execution_count": 97,
   "id": "953c8a7e",
   "metadata": {},
   "outputs": [
    {
     "name": "stdout",
     "output_type": "stream",
     "text": [
      "100 100 100\n"
     ]
    }
   ],
   "source": [
    "print(len(Brand[:100]),len(Product_discription[:100]),len(Price[:100]))"
   ]
  },
  {
   "cell_type": "code",
   "execution_count": 99,
   "id": "f745ac36",
   "metadata": {},
   "outputs": [
    {
     "data": {
      "text/html": [
       "<div>\n",
       "<style scoped>\n",
       "    .dataframe tbody tr th:only-of-type {\n",
       "        vertical-align: middle;\n",
       "    }\n",
       "\n",
       "    .dataframe tbody tr th {\n",
       "        vertical-align: top;\n",
       "    }\n",
       "\n",
       "    .dataframe thead th {\n",
       "        text-align: right;\n",
       "    }\n",
       "</style>\n",
       "<table border=\"1\" class=\"dataframe\">\n",
       "  <thead>\n",
       "    <tr style=\"text-align: right;\">\n",
       "      <th></th>\n",
       "      <th>Brand</th>\n",
       "      <th>Product-description</th>\n",
       "      <th>Price</th>\n",
       "    </tr>\n",
       "  </thead>\n",
       "  <tbody>\n",
       "    <tr>\n",
       "      <th>0</th>\n",
       "      <td>BRUTON</td>\n",
       "      <td>Modern Trendy Shoes Sneakers For Men</td>\n",
       "      <td>₹294</td>\n",
       "    </tr>\n",
       "    <tr>\n",
       "      <th>1</th>\n",
       "      <td>BRUTON</td>\n",
       "      <td>Combo Pack Of 2 Casual Shoes Sneakers For Men</td>\n",
       "      <td>₹499</td>\n",
       "    </tr>\n",
       "    <tr>\n",
       "      <th>2</th>\n",
       "      <td>URBANBOX</td>\n",
       "      <td>Trending Stylish Casual Outdoor Shoes Sneakers...</td>\n",
       "      <td>₹299</td>\n",
       "    </tr>\n",
       "    <tr>\n",
       "      <th>3</th>\n",
       "      <td>Deals4you</td>\n",
       "      <td>Sneakers For Women</td>\n",
       "      <td>₹439</td>\n",
       "    </tr>\n",
       "    <tr>\n",
       "      <th>4</th>\n",
       "      <td>RED TAPE</td>\n",
       "      <td>Casual Sneakers Shoes for Men | Soft Cushioned...</td>\n",
       "      <td>₹1,179</td>\n",
       "    </tr>\n",
       "    <tr>\n",
       "      <th>...</th>\n",
       "      <td>...</td>\n",
       "      <td>...</td>\n",
       "      <td>...</td>\n",
       "    </tr>\n",
       "    <tr>\n",
       "      <th>95</th>\n",
       "      <td>PUMA</td>\n",
       "      <td>KENRIDGE 2.0 Sneakers For Men</td>\n",
       "      <td>₹1,429</td>\n",
       "    </tr>\n",
       "    <tr>\n",
       "      <th>96</th>\n",
       "      <td>U.S. POLO ASSN.</td>\n",
       "      <td>BRENTT 2.0 Sneakers For Men</td>\n",
       "      <td>₹399</td>\n",
       "    </tr>\n",
       "    <tr>\n",
       "      <th>97</th>\n",
       "      <td>U.S. POLO ASSN.</td>\n",
       "      <td>Sneakers For Women</td>\n",
       "      <td>₹619</td>\n",
       "    </tr>\n",
       "    <tr>\n",
       "      <th>98</th>\n",
       "      <td>Shozie</td>\n",
       "      <td>KENRIDGE 2.0 Sneakers For Men</td>\n",
       "      <td>₹1,709</td>\n",
       "    </tr>\n",
       "    <tr>\n",
       "      <th>99</th>\n",
       "      <td>HIGHLANDER</td>\n",
       "      <td>GAIMAN 2.O Sneakers For Men</td>\n",
       "      <td>₹1,189</td>\n",
       "    </tr>\n",
       "  </tbody>\n",
       "</table>\n",
       "<p>100 rows × 3 columns</p>\n",
       "</div>"
      ],
      "text/plain": [
       "              Brand                                Product-description   Price\n",
       "0            BRUTON               Modern Trendy Shoes Sneakers For Men    ₹294\n",
       "1            BRUTON      Combo Pack Of 2 Casual Shoes Sneakers For Men    ₹499\n",
       "2          URBANBOX  Trending Stylish Casual Outdoor Shoes Sneakers...    ₹299\n",
       "3         Deals4you                                 Sneakers For Women    ₹439\n",
       "4          RED TAPE  Casual Sneakers Shoes for Men | Soft Cushioned...  ₹1,179\n",
       "..              ...                                                ...     ...\n",
       "95             PUMA                      KENRIDGE 2.0 Sneakers For Men  ₹1,429\n",
       "96  U.S. POLO ASSN.                        BRENTT 2.0 Sneakers For Men    ₹399\n",
       "97  U.S. POLO ASSN.                                 Sneakers For Women    ₹619\n",
       "98           Shozie                      KENRIDGE 2.0 Sneakers For Men  ₹1,709\n",
       "99       HIGHLANDER                        GAIMAN 2.O Sneakers For Men  ₹1,189\n",
       "\n",
       "[100 rows x 3 columns]"
      ]
     },
     "execution_count": 99,
     "metadata": {},
     "output_type": "execute_result"
    }
   ],
   "source": [
    "df4=pd.DataFrame({\"Brand\":Brand[:100],\"Product-description\":Product_discription[:100],\"Price\":Price[:100]})\n",
    "df4"
   ]
  },
  {
   "cell_type": "markdown",
   "id": "bd1e5098",
   "metadata": {},
   "source": [
    "# Solution for question no. 5"
   ]
  },
  {
   "cell_type": "markdown",
   "id": "0853e655",
   "metadata": {},
   "source": [
    "Q5: Go to webpage https://www.amazon.in/ Enter “Laptop” in the search field and then click the search icon. Then set CPU Type filter to “Intel Core i7” as shown in the below image: \n",
    "            After setting the filters scrape first 10 laptops data. You have to scrape 3 attributes for each laptop: \n",
    "1.\tTitle \n",
    "2.\tRatings \n",
    "3.\tPrice \n"
   ]
  },
  {
   "cell_type": "code",
   "execution_count": 43,
   "id": "cd8af29d",
   "metadata": {},
   "outputs": [
    {
     "name": "stdout",
     "output_type": "stream",
     "text": [
      "Requirement already satisfied: selenium in c:\\users\\sharm\\anaconda3\\lib\\site-packages (4.18.1)\n",
      "Requirement already satisfied: urllib3[socks]<3,>=1.26 in c:\\users\\sharm\\anaconda3\\lib\\site-packages (from selenium) (1.26.16)\n",
      "Requirement already satisfied: trio~=0.17 in c:\\users\\sharm\\anaconda3\\lib\\site-packages (from selenium) (0.24.0)\n",
      "Requirement already satisfied: trio-websocket~=0.9 in c:\\users\\sharm\\anaconda3\\lib\\site-packages (from selenium) (0.11.1)\n",
      "Requirement already satisfied: certifi>=2021.10.8 in c:\\users\\sharm\\anaconda3\\lib\\site-packages (from selenium) (2023.5.7)\n",
      "Requirement already satisfied: typing_extensions>=4.9.0 in c:\\users\\sharm\\anaconda3\\lib\\site-packages (from selenium) (4.10.0)\n",
      "Requirement already satisfied: attrs>=20.1.0 in c:\\users\\sharm\\anaconda3\\lib\\site-packages (from trio~=0.17->selenium) (22.1.0)\n",
      "Requirement already satisfied: sortedcontainers in c:\\users\\sharm\\anaconda3\\lib\\site-packages (from trio~=0.17->selenium) (2.4.0)\n",
      "Requirement already satisfied: idna in c:\\users\\sharm\\anaconda3\\lib\\site-packages (from trio~=0.17->selenium) (3.4)\n",
      "Requirement already satisfied: outcome in c:\\users\\sharm\\anaconda3\\lib\\site-packages (from trio~=0.17->selenium) (1.3.0.post0)\n",
      "Requirement already satisfied: sniffio>=1.3.0 in c:\\users\\sharm\\anaconda3\\lib\\site-packages (from trio~=0.17->selenium) (1.3.1)\n",
      "Requirement already satisfied: cffi>=1.14 in c:\\users\\sharm\\anaconda3\\lib\\site-packages (from trio~=0.17->selenium) (1.15.1)\n",
      "Requirement already satisfied: wsproto>=0.14 in c:\\users\\sharm\\anaconda3\\lib\\site-packages (from trio-websocket~=0.9->selenium) (1.2.0)\n",
      "Requirement already satisfied: PySocks!=1.5.7,<2.0,>=1.5.6 in c:\\users\\sharm\\anaconda3\\lib\\site-packages (from urllib3[socks]<3,>=1.26->selenium) (1.7.1)\n",
      "Requirement already satisfied: pycparser in c:\\users\\sharm\\anaconda3\\lib\\site-packages (from cffi>=1.14->trio~=0.17->selenium) (2.21)\n",
      "Requirement already satisfied: h11<1,>=0.9.0 in c:\\users\\sharm\\anaconda3\\lib\\site-packages (from wsproto>=0.14->trio-websocket~=0.9->selenium) (0.14.0)\n"
     ]
    }
   ],
   "source": [
    "!pip install selenium"
   ]
  },
  {
   "cell_type": "code",
   "execution_count": 44,
   "id": "e3b77248",
   "metadata": {},
   "outputs": [],
   "source": [
    "# calling important libraries/functions\n",
    "import selenium\n",
    "import pandas as pd\n",
    "from selenium import webdriver\n",
    "from time import sleep\n",
    "import warnings\n",
    "warnings.filterwarnings('ignore')\n",
    "from selenium.webdriver.common.by import By"
   ]
  },
  {
   "cell_type": "code",
   "execution_count": 45,
   "id": "026f4d89",
   "metadata": {},
   "outputs": [],
   "source": [
    "#selection of chrome as browser\n",
    "driver=webdriver.Chrome()"
   ]
  },
  {
   "cell_type": "code",
   "execution_count": 46,
   "id": "33167ca3",
   "metadata": {},
   "outputs": [],
   "source": [
    "# getting in to the website\n",
    "driver.get(\"https://www.amazon.in/\")"
   ]
  },
  {
   "cell_type": "code",
   "execution_count": 47,
   "id": "9de38733",
   "metadata": {},
   "outputs": [],
   "source": [
    "driver.maximize_window()"
   ]
  },
  {
   "cell_type": "code",
   "execution_count": 48,
   "id": "58ee6b19",
   "metadata": {},
   "outputs": [],
   "source": [
    "#searching for jobtitle and location as per question\n",
    "product=driver.find_element(By.XPATH,\"/html/body/div[1]/header/div/div[1]/div[2]/div/form/div[2]/div[1]/input\")\n",
    "product.send_keys(\"Laptop\")"
   ]
  },
  {
   "cell_type": "code",
   "execution_count": 49,
   "id": "b56d21d9",
   "metadata": {},
   "outputs": [],
   "source": [
    "search=driver.find_element(By.XPATH,'/html/body/div[1]/header/div/div[1]/div[2]/div/form/div[3]/div/span/input')\n",
    "search.click()"
   ]
  },
  {
   "cell_type": "code",
   "execution_count": 51,
   "id": "ad94b2f3",
   "metadata": {},
   "outputs": [],
   "source": [
    "# checking filter box\n",
    "filter_box=driver.find_element(By.XPATH,\"/html/body/div[1]/div[1]/div[1]/div[2]/div/div[3]/span/div[1]/div/div/div[5]/ul[19]/span/span[9]/li/span/a/div/label/i\")\n",
    "filter_box.click()"
   ]
  },
  {
   "cell_type": "code",
   "execution_count": 64,
   "id": "91879eef",
   "metadata": {},
   "outputs": [],
   "source": [
    "# for storing scraped data\n",
    "Title=[]\n",
    "Rating_s=[]\n",
    "Price=[]"
   ]
  },
  {
   "cell_type": "code",
   "execution_count": 65,
   "id": "d7a5a7bb",
   "metadata": {},
   "outputs": [],
   "source": [
    "title=driver.find_elements(By.XPATH,'//span[@class=\"a-size-medium a-color-base a-text-normal\"]')\n",
    "for i in title[0:10]:\n",
    "    title_tag=i.text\n",
    "    Title.append(title_tag)"
   ]
  },
  {
   "cell_type": "code",
   "execution_count": 66,
   "id": "12c4e385",
   "metadata": {},
   "outputs": [],
   "source": [
    "ratings=driver.find_elements(By.XPATH,'//div[@class=\"a-row a-size-small\"]/span ')\n",
    "for j in ratings[0:10]:\n",
    "    rating_tag=j.text\n",
    "    Rating_s.append(rating_tag)"
   ]
  },
  {
   "cell_type": "code",
   "execution_count": 59,
   "id": "e8e0d22b",
   "metadata": {},
   "outputs": [
    {
     "data": {
      "text/plain": [
       "['', '146', '', '88', '', '459', '', '4', '', '49']"
      ]
     },
     "execution_count": 59,
     "metadata": {},
     "output_type": "execute_result"
    }
   ],
   "source": [
    "Rating_s"
   ]
  },
  {
   "cell_type": "code",
   "execution_count": 67,
   "id": "a35e2cef",
   "metadata": {},
   "outputs": [],
   "source": [
    "price=driver.find_elements(By.XPATH,'//span[@class=\"a-price\"]')\n",
    "for l in price[0:10]:\n",
    "    price_tag=l.text\n",
    "    Price.append(price_tag)"
   ]
  },
  {
   "cell_type": "code",
   "execution_count": 68,
   "id": "b17a12d8",
   "metadata": {},
   "outputs": [
    {
     "name": "stdout",
     "output_type": "stream",
     "text": [
      "10 10 10\n"
     ]
    }
   ],
   "source": [
    "# checking lengths\n",
    "print(len(Title),len(Rating_s),len(Price))"
   ]
  },
  {
   "cell_type": "markdown",
   "id": "ea482dc0",
   "metadata": {},
   "source": [
    "Note: after various tries rating section showing same (df5) data"
   ]
  },
  {
   "cell_type": "code",
   "execution_count": 69,
   "id": "c9fd3c66",
   "metadata": {},
   "outputs": [
    {
     "data": {
      "text/html": [
       "<div>\n",
       "<style scoped>\n",
       "    .dataframe tbody tr th:only-of-type {\n",
       "        vertical-align: middle;\n",
       "    }\n",
       "\n",
       "    .dataframe tbody tr th {\n",
       "        vertical-align: top;\n",
       "    }\n",
       "\n",
       "    .dataframe thead th {\n",
       "        text-align: right;\n",
       "    }\n",
       "</style>\n",
       "<table border=\"1\" class=\"dataframe\">\n",
       "  <thead>\n",
       "    <tr style=\"text-align: right;\">\n",
       "      <th></th>\n",
       "      <th>Titles</th>\n",
       "      <th>Ratings</th>\n",
       "      <th>Prices</th>\n",
       "    </tr>\n",
       "  </thead>\n",
       "  <tbody>\n",
       "    <tr>\n",
       "      <th>0</th>\n",
       "      <td>HP Pavilion X360 11th Gen Intel Core i7 14\" (3...</td>\n",
       "      <td></td>\n",
       "      <td>₹66,990</td>\n",
       "    </tr>\n",
       "    <tr>\n",
       "      <th>1</th>\n",
       "      <td>MSI Modern 14, Intel 12th Gen. i7-1255U, 36CM ...</td>\n",
       "      <td>146</td>\n",
       "      <td>₹49,990</td>\n",
       "    </tr>\n",
       "    <tr>\n",
       "      <th>2</th>\n",
       "      <td>Lenovo IdeaPad Slim 3 Intel Core i7 12th Gen 1...</td>\n",
       "      <td></td>\n",
       "      <td>₹62,490</td>\n",
       "    </tr>\n",
       "    <tr>\n",
       "      <th>3</th>\n",
       "      <td>Lenovo Yoga Slim7 Carbon Intel Evo i7 1260P 13...</td>\n",
       "      <td>88</td>\n",
       "      <td>₹1,19,990</td>\n",
       "    </tr>\n",
       "    <tr>\n",
       "      <th>4</th>\n",
       "      <td>HP Laptop 15s, 12th Gen Intel Core i7-1255U, 1...</td>\n",
       "      <td></td>\n",
       "      <td>₹62,490</td>\n",
       "    </tr>\n",
       "    <tr>\n",
       "      <th>5</th>\n",
       "      <td>HP Pavilion 14 11th Gen Intel Core i7 16GB/1TB...</td>\n",
       "      <td>459</td>\n",
       "      <td>₹84,899</td>\n",
       "    </tr>\n",
       "    <tr>\n",
       "      <th>6</th>\n",
       "      <td>ASUS TUF Gaming F15, 15.6\"(39.62 cms) FHD 144H...</td>\n",
       "      <td></td>\n",
       "      <td>₹74,990</td>\n",
       "    </tr>\n",
       "    <tr>\n",
       "      <th>7</th>\n",
       "      <td>Acer Travelmate Business Laptop Intel Core i7-...</td>\n",
       "      <td>4</td>\n",
       "      <td>₹49,990</td>\n",
       "    </tr>\n",
       "    <tr>\n",
       "      <th>8</th>\n",
       "      <td>(Refurbished) Dell Latitude E7470 Intel Core i...</td>\n",
       "      <td></td>\n",
       "      <td>₹24,990</td>\n",
       "    </tr>\n",
       "    <tr>\n",
       "      <th>9</th>\n",
       "      <td>Lenovo IdeaPad Slim 5 Intel Core i7 13700H 16\"...</td>\n",
       "      <td>49</td>\n",
       "      <td>₹89,190</td>\n",
       "    </tr>\n",
       "  </tbody>\n",
       "</table>\n",
       "</div>"
      ],
      "text/plain": [
       "                                              Titles Ratings     Prices\n",
       "0  HP Pavilion X360 11th Gen Intel Core i7 14\" (3...            ₹66,990\n",
       "1  MSI Modern 14, Intel 12th Gen. i7-1255U, 36CM ...     146    ₹49,990\n",
       "2  Lenovo IdeaPad Slim 3 Intel Core i7 12th Gen 1...            ₹62,490\n",
       "3  Lenovo Yoga Slim7 Carbon Intel Evo i7 1260P 13...      88  ₹1,19,990\n",
       "4  HP Laptop 15s, 12th Gen Intel Core i7-1255U, 1...            ₹62,490\n",
       "5  HP Pavilion 14 11th Gen Intel Core i7 16GB/1TB...     459    ₹84,899\n",
       "6  ASUS TUF Gaming F15, 15.6\"(39.62 cms) FHD 144H...            ₹74,990\n",
       "7  Acer Travelmate Business Laptop Intel Core i7-...       4    ₹49,990\n",
       "8  (Refurbished) Dell Latitude E7470 Intel Core i...            ₹24,990\n",
       "9  Lenovo IdeaPad Slim 5 Intel Core i7 13700H 16\"...      49    ₹89,190"
      ]
     },
     "execution_count": 69,
     "metadata": {},
     "output_type": "execute_result"
    }
   ],
   "source": [
    "df5=pd.DataFrame({\"Titles\":Title,\"Ratings\":Rating_s,\"Prices\":Price})\n",
    "df5"
   ]
  },
  {
   "cell_type": "markdown",
   "id": "2c36cc0a",
   "metadata": {},
   "source": [
    "# solution of question no. 6"
   ]
  },
  {
   "cell_type": "markdown",
   "id": "9e7bf175",
   "metadata": {},
   "source": [
    " \n",
    "Q6: Write a python program to scrape data for Top 1000 Quotes of All Time. \n",
    "The above task will be done in following steps: \n",
    "1.\tFirst get the webpagehttps://www.azquotes.com/  \n",
    "2.\tClick on Top Quote \n",
    "3.\tThan scrap a) Quote b) Author c) Type Of Quotes \n"
   ]
  },
  {
   "cell_type": "code",
   "execution_count": 2,
   "id": "3d66ffda",
   "metadata": {},
   "outputs": [
    {
     "name": "stdout",
     "output_type": "stream",
     "text": [
      "Requirement already satisfied: selenium in c:\\users\\sharm\\anaconda3\\lib\\site-packages (4.18.1)\n",
      "Requirement already satisfied: urllib3[socks]<3,>=1.26 in c:\\users\\sharm\\anaconda3\\lib\\site-packages (from selenium) (1.26.16)\n",
      "Requirement already satisfied: trio~=0.17 in c:\\users\\sharm\\anaconda3\\lib\\site-packages (from selenium) (0.24.0)\n",
      "Requirement already satisfied: trio-websocket~=0.9 in c:\\users\\sharm\\anaconda3\\lib\\site-packages (from selenium) (0.11.1)\n",
      "Requirement already satisfied: certifi>=2021.10.8 in c:\\users\\sharm\\anaconda3\\lib\\site-packages (from selenium) (2023.5.7)\n",
      "Requirement already satisfied: typing_extensions>=4.9.0 in c:\\users\\sharm\\anaconda3\\lib\\site-packages (from selenium) (4.10.0)\n",
      "Requirement already satisfied: attrs>=20.1.0 in c:\\users\\sharm\\anaconda3\\lib\\site-packages (from trio~=0.17->selenium) (22.1.0)\n",
      "Requirement already satisfied: sortedcontainers in c:\\users\\sharm\\anaconda3\\lib\\site-packages (from trio~=0.17->selenium) (2.4.0)\n",
      "Requirement already satisfied: idna in c:\\users\\sharm\\anaconda3\\lib\\site-packages (from trio~=0.17->selenium) (3.4)\n",
      "Requirement already satisfied: outcome in c:\\users\\sharm\\anaconda3\\lib\\site-packages (from trio~=0.17->selenium) (1.3.0.post0)\n",
      "Requirement already satisfied: sniffio>=1.3.0 in c:\\users\\sharm\\anaconda3\\lib\\site-packages (from trio~=0.17->selenium) (1.3.1)\n",
      "Requirement already satisfied: cffi>=1.14 in c:\\users\\sharm\\anaconda3\\lib\\site-packages (from trio~=0.17->selenium) (1.15.1)\n",
      "Requirement already satisfied: wsproto>=0.14 in c:\\users\\sharm\\anaconda3\\lib\\site-packages (from trio-websocket~=0.9->selenium) (1.2.0)\n",
      "Requirement already satisfied: PySocks!=1.5.7,<2.0,>=1.5.6 in c:\\users\\sharm\\anaconda3\\lib\\site-packages (from urllib3[socks]<3,>=1.26->selenium) (1.7.1)\n",
      "Requirement already satisfied: pycparser in c:\\users\\sharm\\anaconda3\\lib\\site-packages (from cffi>=1.14->trio~=0.17->selenium) (2.21)\n",
      "Requirement already satisfied: h11<1,>=0.9.0 in c:\\users\\sharm\\anaconda3\\lib\\site-packages (from wsproto>=0.14->trio-websocket~=0.9->selenium) (0.14.0)\n"
     ]
    }
   ],
   "source": [
    "!pip install selenium"
   ]
  },
  {
   "cell_type": "code",
   "execution_count": 59,
   "id": "e86aae7b",
   "metadata": {},
   "outputs": [],
   "source": [
    "# calling important libraries/functions\n",
    "import selenium\n",
    "import pandas as pd\n",
    "from selenium import webdriver\n",
    "from time import sleep\n",
    "import warnings\n",
    "warnings.filterwarnings('ignore')\n",
    "from selenium.webdriver.common.by import By"
   ]
  },
  {
   "cell_type": "code",
   "execution_count": 60,
   "id": "0824fa3b",
   "metadata": {},
   "outputs": [],
   "source": [
    "#selection of chrome as browser\n",
    "driver=webdriver.Chrome()"
   ]
  },
  {
   "cell_type": "code",
   "execution_count": 62,
   "id": "91339593",
   "metadata": {},
   "outputs": [],
   "source": [
    "driver.get(\"https://www.azquotes.com/\")"
   ]
  },
  {
   "cell_type": "code",
   "execution_count": 63,
   "id": "87f1c440",
   "metadata": {},
   "outputs": [],
   "source": [
    "driver.maximize_window()"
   ]
  },
  {
   "cell_type": "code",
   "execution_count": 64,
   "id": "bf19eeef",
   "metadata": {},
   "outputs": [],
   "source": [
    "# clicking on top quotes\n",
    "Top_quote=driver.find_element(By.XPATH,'/html/body/div[1]/div[1]/div[1]/div/div[3]/ul/li[5]/a')\n",
    "Top_quote.click()"
   ]
  },
  {
   "cell_type": "code",
   "execution_count": 77,
   "id": "3e8e71fa",
   "metadata": {},
   "outputs": [],
   "source": [
    "# for storing scraped data\n",
    "quotes=[]\n",
    "Authors=[]\n",
    "Type_quote=[]"
   ]
  },
  {
   "cell_type": "code",
   "execution_count": 78,
   "id": "7f82ad81",
   "metadata": {},
   "outputs": [],
   "source": [
    "\n",
    "for x in range(10):\n",
    "    Quotes=driver.find_elements(By.XPATH,'//a[@class=\"title\"]')\n",
    "    for i in Quotes:\n",
    "        qt=i.text\n",
    "        quotes.append(qt)\n",
    "    quotes[:1000]\n",
    "    \n",
    "    \n",
    "    \n",
    "    author=driver.find_elements(By.XPATH,'//div[@class=\"author\"]/a')\n",
    "    for j in author:\n",
    "        at=j.text\n",
    "        Authors.append(at)\n",
    "    Authors[:1000]\n",
    "        \n",
    "        \n",
    "    \n",
    "    type_=driver.find_elements(By.XPATH,'//div[@class=\"tags\"]')\n",
    "    for k in type_:\n",
    "        tt=k.text\n",
    "        Type_quote.append(tt)\n",
    "    Type_quote[:1000]\n",
    "        \n",
    "    next_button=driver.find_element(By.CLASS_NAME,\"next\")\n",
    "    next_button.click()\n",
    "    sleep(1)\n",
    "    "
   ]
  },
  {
   "cell_type": "code",
   "execution_count": 80,
   "id": "92a33270",
   "metadata": {},
   "outputs": [
    {
     "data": {
      "text/plain": [
       "(1000, 1000, 1000)"
      ]
     },
     "execution_count": 80,
     "metadata": {},
     "output_type": "execute_result"
    }
   ],
   "source": [
    "len(quotes),len(Authors),len(Type_quote)"
   ]
  },
  {
   "cell_type": "code",
   "execution_count": 81,
   "id": "fc581bfe",
   "metadata": {},
   "outputs": [
    {
     "data": {
      "text/html": [
       "<div>\n",
       "<style scoped>\n",
       "    .dataframe tbody tr th:only-of-type {\n",
       "        vertical-align: middle;\n",
       "    }\n",
       "\n",
       "    .dataframe tbody tr th {\n",
       "        vertical-align: top;\n",
       "    }\n",
       "\n",
       "    .dataframe thead th {\n",
       "        text-align: right;\n",
       "    }\n",
       "</style>\n",
       "<table border=\"1\" class=\"dataframe\">\n",
       "  <thead>\n",
       "    <tr style=\"text-align: right;\">\n",
       "      <th></th>\n",
       "      <th>Quote</th>\n",
       "      <th>Author</th>\n",
       "      <th>Type of quotes</th>\n",
       "    </tr>\n",
       "  </thead>\n",
       "  <tbody>\n",
       "    <tr>\n",
       "      <th>0</th>\n",
       "      <td>The essence of strategy is choosing what not t...</td>\n",
       "      <td>Michael Porter</td>\n",
       "      <td>Essence, Deep Thought, Transcendentalism</td>\n",
       "    </tr>\n",
       "    <tr>\n",
       "      <th>1</th>\n",
       "      <td>One cannot and must not try to erase the past ...</td>\n",
       "      <td>Golda Meir</td>\n",
       "      <td>Inspiration, Past, Trying</td>\n",
       "    </tr>\n",
       "    <tr>\n",
       "      <th>2</th>\n",
       "      <td>Patriotism means to stand by the country. It d...</td>\n",
       "      <td>Theodore Roosevelt</td>\n",
       "      <td>Country, Peace, War</td>\n",
       "    </tr>\n",
       "    <tr>\n",
       "      <th>3</th>\n",
       "      <td>Death is something inevitable. When a man has ...</td>\n",
       "      <td>Nelson Mandela</td>\n",
       "      <td>Inspirational, Motivational, Death</td>\n",
       "    </tr>\n",
       "    <tr>\n",
       "      <th>4</th>\n",
       "      <td>You have to love a nation that celebrates its ...</td>\n",
       "      <td>Erma Bombeck</td>\n",
       "      <td>4th Of July, Food, Patriotic</td>\n",
       "    </tr>\n",
       "    <tr>\n",
       "      <th>...</th>\n",
       "      <td>...</td>\n",
       "      <td>...</td>\n",
       "      <td>...</td>\n",
       "    </tr>\n",
       "    <tr>\n",
       "      <th>995</th>\n",
       "      <td>Regret for the things we did can be tempered b...</td>\n",
       "      <td>Sydney J. Harris</td>\n",
       "      <td>Love, Inspirational, Motivational</td>\n",
       "    </tr>\n",
       "    <tr>\n",
       "      <th>996</th>\n",
       "      <td>America... just a nation of two hundred millio...</td>\n",
       "      <td>Hunter S. Thompson</td>\n",
       "      <td>Gun, Two, Qualms About</td>\n",
       "    </tr>\n",
       "    <tr>\n",
       "      <th>997</th>\n",
       "      <td>For every disciplined effort there is a multip...</td>\n",
       "      <td>Jim Rohn</td>\n",
       "      <td>Inspirational, Greatness, Best Effort</td>\n",
       "    </tr>\n",
       "    <tr>\n",
       "      <th>998</th>\n",
       "      <td>The spiritual journey is individual, highly pe...</td>\n",
       "      <td>Ram Dass</td>\n",
       "      <td>Spiritual, Truth, Yoga</td>\n",
       "    </tr>\n",
       "    <tr>\n",
       "      <th>999</th>\n",
       "      <td>The mind is not a vessel to be filled but a fi...</td>\n",
       "      <td>Plutarch</td>\n",
       "      <td>Inspirational, Leadership, Education</td>\n",
       "    </tr>\n",
       "  </tbody>\n",
       "</table>\n",
       "<p>1000 rows × 3 columns</p>\n",
       "</div>"
      ],
      "text/plain": [
       "                                                 Quote              Author  \\\n",
       "0    The essence of strategy is choosing what not t...      Michael Porter   \n",
       "1    One cannot and must not try to erase the past ...          Golda Meir   \n",
       "2    Patriotism means to stand by the country. It d...  Theodore Roosevelt   \n",
       "3    Death is something inevitable. When a man has ...      Nelson Mandela   \n",
       "4    You have to love a nation that celebrates its ...        Erma Bombeck   \n",
       "..                                                 ...                 ...   \n",
       "995  Regret for the things we did can be tempered b...    Sydney J. Harris   \n",
       "996  America... just a nation of two hundred millio...  Hunter S. Thompson   \n",
       "997  For every disciplined effort there is a multip...            Jim Rohn   \n",
       "998  The spiritual journey is individual, highly pe...            Ram Dass   \n",
       "999  The mind is not a vessel to be filled but a fi...            Plutarch   \n",
       "\n",
       "                               Type of quotes  \n",
       "0    Essence, Deep Thought, Transcendentalism  \n",
       "1                   Inspiration, Past, Trying  \n",
       "2                         Country, Peace, War  \n",
       "3          Inspirational, Motivational, Death  \n",
       "4                4th Of July, Food, Patriotic  \n",
       "..                                        ...  \n",
       "995         Love, Inspirational, Motivational  \n",
       "996                    Gun, Two, Qualms About  \n",
       "997     Inspirational, Greatness, Best Effort  \n",
       "998                    Spiritual, Truth, Yoga  \n",
       "999      Inspirational, Leadership, Education  \n",
       "\n",
       "[1000 rows x 3 columns]"
      ]
     },
     "execution_count": 81,
     "metadata": {},
     "output_type": "execute_result"
    }
   ],
   "source": [
    "df6=pd.DataFrame({\"Quote\":quotes,\"Author\":Authors,\"Type of quotes\":Type_quote})\n",
    "df6"
   ]
  },
  {
   "cell_type": "markdown",
   "id": "d6ef33ad",
   "metadata": {},
   "source": [
    "# Solution of question no.08"
   ]
  },
  {
   "cell_type": "markdown",
   "id": "067d98c1",
   "metadata": {},
   "source": [
    "Q8: Write a python program to display list of 50 Most expensive cars in the world (i.e. Car name and Price) from https://www.motor1.com/  \n",
    " \n",
    "This task will be done in following steps: \n",
    "1.\tFirst get the webpage https://www.motor1.com/ \n",
    "2.\tThen You have to type in the search bar ’50 most expensive cars’ \n",
    "3.\tThen click on 50 most expensive cars in the world.. \n",
    "4.\tThen scrap the mentioned data and make the dataframe\n"
   ]
  },
  {
   "cell_type": "code",
   "execution_count": 13,
   "id": "5d2ad38c",
   "metadata": {},
   "outputs": [],
   "source": [
    "# calling important libraries/functions\n",
    "import selenium\n",
    "import pandas as pd\n",
    "from selenium import webdriver\n",
    "from time import sleep\n",
    "import warnings\n",
    "warnings.filterwarnings('ignore')\n",
    "from selenium.webdriver.common.by import By"
   ]
  },
  {
   "cell_type": "code",
   "execution_count": 14,
   "id": "b00ad5f7",
   "metadata": {},
   "outputs": [],
   "source": [
    "#selection of chrome as browser\n",
    "driver=webdriver.Chrome()"
   ]
  },
  {
   "cell_type": "code",
   "execution_count": 15,
   "id": "17cd7914",
   "metadata": {},
   "outputs": [],
   "source": [
    "driver.get(\"https://www.motor1.com/\")"
   ]
  },
  {
   "cell_type": "code",
   "execution_count": 16,
   "id": "ce3a4d9e",
   "metadata": {},
   "outputs": [],
   "source": [
    "driver.maximize_window()"
   ]
  },
  {
   "cell_type": "code",
   "execution_count": 20,
   "id": "db4884dd",
   "metadata": {},
   "outputs": [],
   "source": [
    "search_icon=driver.find_element(By.XPATH,\"/html/body/div[9]/div[2]/div/div/div[3]/div/div/button\")\n",
    "search_icon.click()"
   ]
  },
  {
   "cell_type": "code",
   "execution_count": 21,
   "id": "24d8d6cc",
   "metadata": {},
   "outputs": [],
   "source": [
    "search_term=driver.find_element(By.XPATH,\"/html/body/div[9]/div[2]/div/div/div[3]/div/div/div/form/input\")\n",
    "search_term.send_keys(\"50 most expensive cars\")"
   ]
  },
  {
   "cell_type": "code",
   "execution_count": 22,
   "id": "05ba1507",
   "metadata": {},
   "outputs": [],
   "source": [
    "click_search=driver.find_element(By.XPATH,\"/html/body/div[9]/div[2]/div/div/div[3]/div/div/div/form/button[1]\")\n",
    "click_search.click()"
   ]
  },
  {
   "cell_type": "code",
   "execution_count": 23,
   "id": "8323ff82",
   "metadata": {},
   "outputs": [],
   "source": [
    "car=driver.find_element(By.XPATH,\"/html/body/div[9]/div[9]/div/div[1]/div/div/div[1]/div/div[1]/h3/a\")\n",
    "car.click()"
   ]
  },
  {
   "cell_type": "code",
   "execution_count": 24,
   "id": "f9fc9218",
   "metadata": {},
   "outputs": [],
   "source": [
    "# for storing scraped car data\n",
    "Car_name=[]\n",
    "Price=[]"
   ]
  },
  {
   "cell_type": "code",
   "execution_count": 25,
   "id": "c18e0806",
   "metadata": {},
   "outputs": [],
   "source": [
    "# extracting data of car names\n",
    "   \n",
    "    car_name=driver.find_elements(By.XPATH,'//h3[@class=\"subheader\"]')\n",
    "    for i in car_name[0:50]:\n",
    "        it=i.text\n",
    "        Car_name.append(it)\n",
    "    \n",
    "\n",
    "    \n",
    "    "
   ]
  },
  {
   "cell_type": "code",
   "execution_count": 27,
   "id": "185a9b21",
   "metadata": {},
   "outputs": [],
   "source": [
    "# extracting data for car prices\n",
    "\n",
    "price=driver.find_elements(By.XPATH,'//div[@class=\"postBody description e-content\"]/p/strong')\n",
    "for j in price[0:50]:\n",
    "    jt=j.text\n",
    "    Price.append(jt)\n"
   ]
  },
  {
   "cell_type": "code",
   "execution_count": 28,
   "id": "37952941",
   "metadata": {},
   "outputs": [
    {
     "name": "stdout",
     "output_type": "stream",
     "text": [
      "50 50\n"
     ]
    }
   ],
   "source": [
    "print(len(Car_name),len(Price))"
   ]
  },
  {
   "cell_type": "code",
   "execution_count": 29,
   "id": "cf4852f7",
   "metadata": {},
   "outputs": [
    {
     "data": {
      "text/html": [
       "<div>\n",
       "<style scoped>\n",
       "    .dataframe tbody tr th:only-of-type {\n",
       "        vertical-align: middle;\n",
       "    }\n",
       "\n",
       "    .dataframe tbody tr th {\n",
       "        vertical-align: top;\n",
       "    }\n",
       "\n",
       "    .dataframe thead th {\n",
       "        text-align: right;\n",
       "    }\n",
       "</style>\n",
       "<table border=\"1\" class=\"dataframe\">\n",
       "  <thead>\n",
       "    <tr style=\"text-align: right;\">\n",
       "      <th></th>\n",
       "      <th>Car-name</th>\n",
       "      <th>Price</th>\n",
       "    </tr>\n",
       "  </thead>\n",
       "  <tbody>\n",
       "    <tr>\n",
       "      <th>0</th>\n",
       "      <td>Aston Martin Valour</td>\n",
       "      <td>Price: $1.5 Million</td>\n",
       "    </tr>\n",
       "    <tr>\n",
       "      <th>1</th>\n",
       "      <td>McLaren Elva</td>\n",
       "      <td>Price: $1.7 Million</td>\n",
       "    </tr>\n",
       "    <tr>\n",
       "      <th>2</th>\n",
       "      <td>Czinger 21C</td>\n",
       "      <td>Price: $1.7 Million</td>\n",
       "    </tr>\n",
       "    <tr>\n",
       "      <th>3</th>\n",
       "      <td>Ferrari Monza</td>\n",
       "      <td>Price: $1.7 Million</td>\n",
       "    </tr>\n",
       "    <tr>\n",
       "      <th>4</th>\n",
       "      <td>Gordon Murray T.33</td>\n",
       "      <td>Price: $1.7 Million</td>\n",
       "    </tr>\n",
       "    <tr>\n",
       "      <th>5</th>\n",
       "      <td>Koenigsegg Gemera</td>\n",
       "      <td>Price: $1.7 Million</td>\n",
       "    </tr>\n",
       "    <tr>\n",
       "      <th>6</th>\n",
       "      <td>Zenvo TSR-S</td>\n",
       "      <td>Price: $1.7 Million</td>\n",
       "    </tr>\n",
       "    <tr>\n",
       "      <th>7</th>\n",
       "      <td>Hennessey Venom F5</td>\n",
       "      <td>Price: $1.8 Million</td>\n",
       "    </tr>\n",
       "    <tr>\n",
       "      <th>8</th>\n",
       "      <td>Bentley Bacalar</td>\n",
       "      <td>Price: $1.9 Million</td>\n",
       "    </tr>\n",
       "    <tr>\n",
       "      <th>9</th>\n",
       "      <td>Hispano Suiza Carmen Boulogne</td>\n",
       "      <td>Price: $1.9 Million</td>\n",
       "    </tr>\n",
       "    <tr>\n",
       "      <th>10</th>\n",
       "      <td>Bentley Mulliner Batur</td>\n",
       "      <td>Price: $2.0 Million</td>\n",
       "    </tr>\n",
       "    <tr>\n",
       "      <th>11</th>\n",
       "      <td>Deus Vayanne</td>\n",
       "      <td>Price: $2.0 Million</td>\n",
       "    </tr>\n",
       "    <tr>\n",
       "      <th>12</th>\n",
       "      <td>SSC Tuatara</td>\n",
       "      <td>Price: $2.0 Million</td>\n",
       "    </tr>\n",
       "    <tr>\n",
       "      <th>13</th>\n",
       "      <td>Lotus Evija</td>\n",
       "      <td>Price: $2.1 Million</td>\n",
       "    </tr>\n",
       "    <tr>\n",
       "      <th>14</th>\n",
       "      <td>Aston Martin Vulcan</td>\n",
       "      <td>Price: $2.3 Million</td>\n",
       "    </tr>\n",
       "    <tr>\n",
       "      <th>15</th>\n",
       "      <td>Delage D12</td>\n",
       "      <td>Price: $2.3 Million</td>\n",
       "    </tr>\n",
       "    <tr>\n",
       "      <th>16</th>\n",
       "      <td>Ferrari Daytona SP3</td>\n",
       "      <td>Price: $2.3 Million</td>\n",
       "    </tr>\n",
       "    <tr>\n",
       "      <th>17</th>\n",
       "      <td>McLaren Speedtail</td>\n",
       "      <td>Price: $2.3 Million</td>\n",
       "    </tr>\n",
       "    <tr>\n",
       "      <th>18</th>\n",
       "      <td>Rimac Nevera</td>\n",
       "      <td>Price: $2.4 Million</td>\n",
       "    </tr>\n",
       "    <tr>\n",
       "      <th>19</th>\n",
       "      <td>Pagani Utopia</td>\n",
       "      <td>Price: $2.5 Million</td>\n",
       "    </tr>\n",
       "    <tr>\n",
       "      <th>20</th>\n",
       "      <td>Pininfarina Battista</td>\n",
       "      <td>Price: $2.5 Million</td>\n",
       "    </tr>\n",
       "    <tr>\n",
       "      <th>21</th>\n",
       "      <td>Gordon Murray T.50</td>\n",
       "      <td>Price: $2.6 Million</td>\n",
       "    </tr>\n",
       "    <tr>\n",
       "      <th>22</th>\n",
       "      <td>Lamborghini Countach</td>\n",
       "      <td>Price: $2.6 Million</td>\n",
       "    </tr>\n",
       "    <tr>\n",
       "      <th>23</th>\n",
       "      <td>Mercedes-AMG Project One</td>\n",
       "      <td>Price: $2.7 Million</td>\n",
       "    </tr>\n",
       "    <tr>\n",
       "      <th>24</th>\n",
       "      <td>Zenvo Aurora</td>\n",
       "      <td>Price: $2.8 Million</td>\n",
       "    </tr>\n",
       "    <tr>\n",
       "      <th>25</th>\n",
       "      <td>Aston Martin Victor</td>\n",
       "      <td>Price: $3.0 Million</td>\n",
       "    </tr>\n",
       "    <tr>\n",
       "      <th>26</th>\n",
       "      <td>Hennessey Venom F5 Roadster</td>\n",
       "      <td>$3.0 Million</td>\n",
       "    </tr>\n",
       "    <tr>\n",
       "      <th>27</th>\n",
       "      <td>Koenigsegg Jesko</td>\n",
       "      <td>Price: $3.0 Million</td>\n",
       "    </tr>\n",
       "    <tr>\n",
       "      <th>28</th>\n",
       "      <td>Aston Martin Valkyrie</td>\n",
       "      <td>Price: $3.2 Million</td>\n",
       "    </tr>\n",
       "    <tr>\n",
       "      <th>29</th>\n",
       "      <td>W Motors Lykan Hypersport</td>\n",
       "      <td>Price: $3.4 Million</td>\n",
       "    </tr>\n",
       "    <tr>\n",
       "      <th>30</th>\n",
       "      <td>McLaren Solus</td>\n",
       "      <td>$3.5 Million</td>\n",
       "    </tr>\n",
       "    <tr>\n",
       "      <th>31</th>\n",
       "      <td>Lamborghini Sian</td>\n",
       "      <td>Price: $3.6 million</td>\n",
       "    </tr>\n",
       "    <tr>\n",
       "      <th>32</th>\n",
       "      <td>Koenigsegg CC850</td>\n",
       "      <td>Price: $3.7 Million</td>\n",
       "    </tr>\n",
       "    <tr>\n",
       "      <th>33</th>\n",
       "      <td>Bugatti Chiron Super Sport 300+</td>\n",
       "      <td>Price: $3.9 Million</td>\n",
       "    </tr>\n",
       "    <tr>\n",
       "      <th>34</th>\n",
       "      <td>Lamborghini Veneno</td>\n",
       "      <td>Price: $4.5 Million</td>\n",
       "    </tr>\n",
       "    <tr>\n",
       "      <th>35</th>\n",
       "      <td>Bugatti Bolide</td>\n",
       "      <td>Price: $4.7 Million</td>\n",
       "    </tr>\n",
       "    <tr>\n",
       "      <th>36</th>\n",
       "      <td>Pininfarina B95 Speedster</td>\n",
       "      <td>Price: $4.8 Million</td>\n",
       "    </tr>\n",
       "    <tr>\n",
       "      <th>37</th>\n",
       "      <td>Bugatti Mistral</td>\n",
       "      <td>Price: $5.0 Million</td>\n",
       "    </tr>\n",
       "    <tr>\n",
       "      <th>38</th>\n",
       "      <td>Pagani Huayra Imola</td>\n",
       "      <td>Price: $5.4 Million</td>\n",
       "    </tr>\n",
       "    <tr>\n",
       "      <th>39</th>\n",
       "      <td>Bugatti Divo</td>\n",
       "      <td>Price: $5.8 Million</td>\n",
       "    </tr>\n",
       "    <tr>\n",
       "      <th>40</th>\n",
       "      <td>SP Automotive Chaos</td>\n",
       "      <td>Price: $6.4 Million</td>\n",
       "    </tr>\n",
       "    <tr>\n",
       "      <th>41</th>\n",
       "      <td>Pagani Codalunga</td>\n",
       "      <td>Price: $7.4 Million</td>\n",
       "    </tr>\n",
       "    <tr>\n",
       "      <th>42</th>\n",
       "      <td>777 Hypercar</td>\n",
       "      <td>Price: $7.5 Million</td>\n",
       "    </tr>\n",
       "    <tr>\n",
       "      <th>43</th>\n",
       "      <td>Mercedes-Maybach Exelero</td>\n",
       "      <td>Price: $8.0 Million</td>\n",
       "    </tr>\n",
       "    <tr>\n",
       "      <th>44</th>\n",
       "      <td>Bugatti Centodieci</td>\n",
       "      <td>Price: $9.0 Million</td>\n",
       "    </tr>\n",
       "    <tr>\n",
       "      <th>45</th>\n",
       "      <td>Bugatti Chiron Profilée</td>\n",
       "      <td>Price: $10.8 Million</td>\n",
       "    </tr>\n",
       "    <tr>\n",
       "      <th>46</th>\n",
       "      <td>Rolls-Royce Sweptail</td>\n",
       "      <td>Price: $12.8 Million</td>\n",
       "    </tr>\n",
       "    <tr>\n",
       "      <th>47</th>\n",
       "      <td>Bugatti La Voiture Noire</td>\n",
       "      <td>Price: $13.4 Million</td>\n",
       "    </tr>\n",
       "    <tr>\n",
       "      <th>48</th>\n",
       "      <td>Rolls-Royce Boat Tail*</td>\n",
       "      <td>Price: $28.0 Million (est.)</td>\n",
       "    </tr>\n",
       "    <tr>\n",
       "      <th>49</th>\n",
       "      <td>Rolls-Royce La Rose Noire Droptail</td>\n",
       "      <td>Price: $30 Million (est.)</td>\n",
       "    </tr>\n",
       "  </tbody>\n",
       "</table>\n",
       "</div>"
      ],
      "text/plain": [
       "                              Car-name                        Price\n",
       "0                  Aston Martin Valour          Price: $1.5 Million\n",
       "1                         McLaren Elva          Price: $1.7 Million\n",
       "2                          Czinger 21C          Price: $1.7 Million\n",
       "3                        Ferrari Monza          Price: $1.7 Million\n",
       "4                   Gordon Murray T.33          Price: $1.7 Million\n",
       "5                    Koenigsegg Gemera          Price: $1.7 Million\n",
       "6                          Zenvo TSR-S          Price: $1.7 Million\n",
       "7                   Hennessey Venom F5          Price: $1.8 Million\n",
       "8                      Bentley Bacalar          Price: $1.9 Million\n",
       "9        Hispano Suiza Carmen Boulogne          Price: $1.9 Million\n",
       "10              Bentley Mulliner Batur          Price: $2.0 Million\n",
       "11                        Deus Vayanne          Price: $2.0 Million\n",
       "12                         SSC Tuatara          Price: $2.0 Million\n",
       "13                         Lotus Evija          Price: $2.1 Million\n",
       "14                 Aston Martin Vulcan          Price: $2.3 Million\n",
       "15                          Delage D12          Price: $2.3 Million\n",
       "16                 Ferrari Daytona SP3          Price: $2.3 Million\n",
       "17                   McLaren Speedtail          Price: $2.3 Million\n",
       "18                        Rimac Nevera          Price: $2.4 Million\n",
       "19                       Pagani Utopia          Price: $2.5 Million\n",
       "20                Pininfarina Battista          Price: $2.5 Million\n",
       "21                  Gordon Murray T.50          Price: $2.6 Million\n",
       "22                Lamborghini Countach          Price: $2.6 Million\n",
       "23            Mercedes-AMG Project One          Price: $2.7 Million\n",
       "24                        Zenvo Aurora          Price: $2.8 Million\n",
       "25                 Aston Martin Victor          Price: $3.0 Million\n",
       "26         Hennessey Venom F5 Roadster                 $3.0 Million\n",
       "27                    Koenigsegg Jesko          Price: $3.0 Million\n",
       "28               Aston Martin Valkyrie          Price: $3.2 Million\n",
       "29           W Motors Lykan Hypersport          Price: $3.4 Million\n",
       "30                       McLaren Solus                 $3.5 Million\n",
       "31                    Lamborghini Sian          Price: $3.6 million\n",
       "32                    Koenigsegg CC850          Price: $3.7 Million\n",
       "33     Bugatti Chiron Super Sport 300+          Price: $3.9 Million\n",
       "34                  Lamborghini Veneno          Price: $4.5 Million\n",
       "35                      Bugatti Bolide          Price: $4.7 Million\n",
       "36           Pininfarina B95 Speedster          Price: $4.8 Million\n",
       "37                     Bugatti Mistral          Price: $5.0 Million\n",
       "38                 Pagani Huayra Imola          Price: $5.4 Million\n",
       "39                        Bugatti Divo          Price: $5.8 Million\n",
       "40                 SP Automotive Chaos          Price: $6.4 Million\n",
       "41                    Pagani Codalunga          Price: $7.4 Million\n",
       "42                        777 Hypercar          Price: $7.5 Million\n",
       "43            Mercedes-Maybach Exelero          Price: $8.0 Million\n",
       "44                  Bugatti Centodieci          Price: $9.0 Million\n",
       "45             Bugatti Chiron Profilée         Price: $10.8 Million\n",
       "46                Rolls-Royce Sweptail         Price: $12.8 Million\n",
       "47            Bugatti La Voiture Noire         Price: $13.4 Million\n",
       "48              Rolls-Royce Boat Tail*  Price: $28.0 Million (est.)\n",
       "49  Rolls-Royce La Rose Noire Droptail    Price: $30 Million (est.)"
      ]
     },
     "execution_count": 29,
     "metadata": {},
     "output_type": "execute_result"
    }
   ],
   "source": [
    "df8=pd.DataFrame({\"Car-name\":Car_name,\"Price\":Price})\n",
    "df8"
   ]
  },
  {
   "cell_type": "markdown",
   "id": "939df78f",
   "metadata": {},
   "source": [
    "# solution of question no. 07"
   ]
  },
  {
   "cell_type": "markdown",
   "id": "68bcc115",
   "metadata": {},
   "source": [
    "Q8: Write a python program to display list of 50 Most expensive cars in the world (i.e. Car name and Price) from https://www.motor1.com/\n",
    "\n",
    "This task will be done in following steps: 1. First get the webpage https://www.motor1.com/ 2. Then You have to type in the search bar ’50 most expensive cars’ 3. Then click on 50 most expensive cars in the world.. 4. Then scrap the mentioned data and make the dataframe"
   ]
  },
  {
   "cell_type": "code",
   "execution_count": 77,
   "id": "daf877ec",
   "metadata": {},
   "outputs": [
    {
     "name": "stdout",
     "output_type": "stream",
     "text": [
      "Requirement already satisfied: selenium in c:\\users\\sharm\\anaconda3\\lib\\site-packages (4.18.1)\n",
      "Requirement already satisfied: urllib3[socks]<3,>=1.26 in c:\\users\\sharm\\anaconda3\\lib\\site-packages (from selenium) (1.26.16)\n",
      "Requirement already satisfied: trio~=0.17 in c:\\users\\sharm\\anaconda3\\lib\\site-packages (from selenium) (0.24.0)\n",
      "Requirement already satisfied: trio-websocket~=0.9 in c:\\users\\sharm\\anaconda3\\lib\\site-packages (from selenium) (0.11.1)\n",
      "Requirement already satisfied: certifi>=2021.10.8 in c:\\users\\sharm\\anaconda3\\lib\\site-packages (from selenium) (2023.5.7)\n",
      "Requirement already satisfied: typing_extensions>=4.9.0 in c:\\users\\sharm\\anaconda3\\lib\\site-packages (from selenium) (4.10.0)\n",
      "Requirement already satisfied: attrs>=20.1.0 in c:\\users\\sharm\\anaconda3\\lib\\site-packages (from trio~=0.17->selenium) (22.1.0)\n",
      "Requirement already satisfied: sortedcontainers in c:\\users\\sharm\\anaconda3\\lib\\site-packages (from trio~=0.17->selenium) (2.4.0)\n",
      "Requirement already satisfied: idna in c:\\users\\sharm\\anaconda3\\lib\\site-packages (from trio~=0.17->selenium) (3.4)\n",
      "Requirement already satisfied: outcome in c:\\users\\sharm\\anaconda3\\lib\\site-packages (from trio~=0.17->selenium) (1.3.0.post0)\n",
      "Requirement already satisfied: sniffio>=1.3.0 in c:\\users\\sharm\\anaconda3\\lib\\site-packages (from trio~=0.17->selenium) (1.3.1)\n",
      "Requirement already satisfied: cffi>=1.14 in c:\\users\\sharm\\anaconda3\\lib\\site-packages (from trio~=0.17->selenium) (1.15.1)\n",
      "Requirement already satisfied: wsproto>=0.14 in c:\\users\\sharm\\anaconda3\\lib\\site-packages (from trio-websocket~=0.9->selenium) (1.2.0)\n",
      "Requirement already satisfied: PySocks!=1.5.7,<2.0,>=1.5.6 in c:\\users\\sharm\\anaconda3\\lib\\site-packages (from urllib3[socks]<3,>=1.26->selenium) (1.7.1)\n",
      "Requirement already satisfied: pycparser in c:\\users\\sharm\\anaconda3\\lib\\site-packages (from cffi>=1.14->trio~=0.17->selenium) (2.21)\n",
      "Requirement already satisfied: h11<1,>=0.9.0 in c:\\users\\sharm\\anaconda3\\lib\\site-packages (from wsproto>=0.14->trio-websocket~=0.9->selenium) (0.14.0)\n"
     ]
    }
   ],
   "source": [
    "!pip install selenium"
   ]
  },
  {
   "cell_type": "code",
   "execution_count": 78,
   "id": "987e5acb",
   "metadata": {},
   "outputs": [],
   "source": [
    "# calling important libraries/functions\n",
    "import selenium\n",
    "import pandas as pd\n",
    "from selenium import webdriver\n",
    "from time import sleep\n",
    "import warnings\n",
    "warnings.filterwarnings('ignore')\n",
    "from selenium.webdriver.common.by import By"
   ]
  },
  {
   "cell_type": "code",
   "execution_count": 79,
   "id": "cd3d3426",
   "metadata": {},
   "outputs": [],
   "source": [
    "#selection of chrome as browser\n",
    "driver=webdriver.Chrome()"
   ]
  },
  {
   "cell_type": "code",
   "execution_count": 80,
   "id": "bfe38d40",
   "metadata": {},
   "outputs": [],
   "source": [
    "# browsing the website\n",
    "driver.get(\"https://www.jagranjosh.com/general-knowledge/list-ofall-prime-ministers-of-india-1473165149-1\")"
   ]
  },
  {
   "cell_type": "code",
   "execution_count": 81,
   "id": "fc749126",
   "metadata": {},
   "outputs": [],
   "source": [
    "driver.maximize_window()"
   ]
  },
  {
   "cell_type": "code",
   "execution_count": 86,
   "id": "247ed9e0",
   "metadata": {},
   "outputs": [],
   "source": [
    "# for storing extracted data\n",
    "PM_data=[]"
   ]
  },
  {
   "cell_type": "code",
   "execution_count": 88,
   "id": "1a08d09c",
   "metadata": {},
   "outputs": [],
   "source": [
    "# extracting/scraping data for attributes\n",
    "\n",
    "data=driver.find_elements(By.XPATH,'//td[@valign=\"top\"]')\n",
    "for i in data:\n",
    "    it=i.text\n",
    "    PM_data.append(it)"
   ]
  },
  {
   "cell_type": "code",
   "execution_count": 89,
   "id": "2e001407",
   "metadata": {},
   "outputs": [
    {
     "data": {
      "text/plain": [
       "['1.',\n",
       " 'Jawahar Lal Nehru',\n",
       " '(1889–1964)',\n",
       " '15 August 1947 to 27 May 1964\\n16 years, 286 days',\n",
       " 'The first prime minister of India and the longest-serving PM of India, the first to die in office.',\n",
       " '2.',\n",
       " 'Gulzarilal Nanda (Acting)',\n",
       " '(1898-1998)',\n",
       " '27 May 1964 to 9 June 1964,\\n13 days',\n",
       " 'First acting PM of India',\n",
       " '3.',\n",
       " 'Lal Bahadur Shastri',\n",
       " '(1904–1966)',\n",
       " '9 June 1964 to 11 January 1966\\n1 year, 216 days',\n",
       " \"He has given the slogan of 'Jai Jawan Jai Kisan' during the Indo-Pak war of 1965\",\n",
       " '5.',\n",
       " 'Indira Gandhi',\n",
       " '(1917–1984)',\n",
       " '24 January 1966 to 24 March 1977\\n11 years, 59 days',\n",
       " 'First female Prime Minister of India',\n",
       " '6.',\n",
       " 'Morarji Desai',\n",
       " '(1896–1995)',\n",
       " '24 March 1977 to  28 July 1979 \\n2 year, 126 days',\n",
       " 'Oldest to become PM (81 years old) and first to resign from office',\n",
       " '7.',\n",
       " 'Charan Singh',\n",
       " '(1902–1987)',\n",
       " '28 July 1979 to 14 January 1980\\n170 days',\n",
       " 'Only PM who did not face the Parliament',\n",
       " '8.',\n",
       " 'Indira Gandhi',\n",
       " '(1917–1984)',\n",
       " '14 January 1980 to 31 October 1984\\n4 years, 291 days',\n",
       " 'The first lady who served as PM for the second term',\n",
       " '9.',\n",
       " 'Rajiv Gandhi',\n",
       " '(1944–1991)',\n",
       " '31 October 1984 to 2 December 1989\\n5 years, 32 days',\n",
       " 'Youngest to become PM (40 years old)',\n",
       " '10.',\n",
       " 'V. P. Singh',\n",
       " '(1931–2008)',\n",
       " '2 December 1989 to 10 November 1990\\n343 days',\n",
       " 'First PM to step down after a vote of no confidence',\n",
       " '11.',\n",
       " 'Chandra Shekhar',\n",
       " '(1927–2007)',\n",
       " '10 November 1990 to 21 June 1991\\n223 days',\n",
       " 'He belongs to  Samajwadi Janata Party',\n",
       " '12.',\n",
       " 'P. V. Narasimha Rao',\n",
       " '(1921–2004)',\n",
       " '21 June 1991 to 16 May 1996\\n4 years, 330 days',\n",
       " 'First PM from South India',\n",
       " '13.',\n",
       " 'Atal Bihari Vajpayee',\n",
       " '(1924- 2018)',\n",
       " '16 May 1996 to 1 June 1996\\n16 days',\n",
       " 'PM for shortest tenure',\n",
       " '14.',\n",
       " 'H. D. Deve Gowda',\n",
       " '(born 1933)',\n",
       " '1 June 1996 to 21 April 1997\\n324 days',\n",
       " 'He belongs to  Janata Dal',\n",
       " '15.',\n",
       " 'Inder Kumar Gujral',\n",
       " '(1919–2012)',\n",
       " '21 April 1997 to 19 March 1998 \\n332 days',\n",
       " '------',\n",
       " '16.',\n",
       " 'Atal Bihari Vajpayee',\n",
       " '(1924-2018)',\n",
       " '19 March 1998 to 22 May 2004 \\n6 years, 64 days',\n",
       " ' The first non-congress PM who completed a full term as PM',\n",
       " '17.',\n",
       " 'Manmohan Singh',\n",
       " '(born 1932)',\n",
       " '22 May 2004 to 26 May 2014   \\n10 years, 4 days',\n",
       " ' First Sikh PM',\n",
       " '18.',\n",
       " 'Narendra Modi',\n",
       " '(born 1950)',\n",
       " '26 May 2014 - 2019',\n",
       " '4th Prime Minister of India who served two consecutive tenures',\n",
       " '1.',\n",
       " 'Jawahar Lal Nehru',\n",
       " '(1889–1964)',\n",
       " '15 August 1947 to 27 May 1964\\n16 years, 286 days',\n",
       " 'The first prime minister of India and the longest-serving PM of India, the first to die in office.',\n",
       " '2.',\n",
       " 'Gulzarilal Nanda (Acting)',\n",
       " '(1898-1998)',\n",
       " '27 May 1964 to 9 June 1964,\\n13 days',\n",
       " 'First acting PM of India',\n",
       " '3.',\n",
       " 'Lal Bahadur Shastri',\n",
       " '(1904–1966)',\n",
       " '9 June 1964 to 11 January 1966\\n1 year, 216 days',\n",
       " \"He has given the slogan of 'Jai Jawan Jai Kisan' during the Indo-Pak war of 1965\",\n",
       " '5.',\n",
       " 'Indira Gandhi',\n",
       " '(1917–1984)',\n",
       " '24 January 1966 to 24 March 1977\\n11 years, 59 days',\n",
       " 'First female Prime Minister of India',\n",
       " '6.',\n",
       " 'Morarji Desai',\n",
       " '(1896–1995)',\n",
       " '24 March 1977 to  28 July 1979 \\n2 year, 126 days',\n",
       " 'Oldest to become PM (81 years old) and first to resign from office',\n",
       " '7.',\n",
       " 'Charan Singh',\n",
       " '(1902–1987)',\n",
       " '28 July 1979 to 14 January 1980\\n170 days',\n",
       " 'Only PM who did not face the Parliament',\n",
       " '8.',\n",
       " 'Indira Gandhi',\n",
       " '(1917–1984)',\n",
       " '14 January 1980 to 31 October 1984\\n4 years, 291 days',\n",
       " 'The first lady who served as PM for the second term',\n",
       " '9.',\n",
       " 'Rajiv Gandhi',\n",
       " '(1944–1991)',\n",
       " '31 October 1984 to 2 December 1989\\n5 years, 32 days',\n",
       " 'Youngest to become PM (40 years old)',\n",
       " '10.',\n",
       " 'V. P. Singh',\n",
       " '(1931–2008)',\n",
       " '2 December 1989 to 10 November 1990\\n343 days',\n",
       " 'First PM to step down after a vote of no confidence',\n",
       " '11.',\n",
       " 'Chandra Shekhar',\n",
       " '(1927–2007)',\n",
       " '10 November 1990 to 21 June 1991\\n223 days',\n",
       " 'He belongs to  Samajwadi Janata Party',\n",
       " '12.',\n",
       " 'P. V. Narasimha Rao',\n",
       " '(1921–2004)',\n",
       " '21 June 1991 to 16 May 1996\\n4 years, 330 days',\n",
       " 'First PM from South India',\n",
       " '13.',\n",
       " 'Atal Bihari Vajpayee',\n",
       " '(1924- 2018)',\n",
       " '16 May 1996 to 1 June 1996\\n16 days',\n",
       " 'PM for shortest tenure',\n",
       " '14.',\n",
       " 'H. D. Deve Gowda',\n",
       " '(born 1933)',\n",
       " '1 June 1996 to 21 April 1997\\n324 days',\n",
       " 'He belongs to  Janata Dal',\n",
       " '15.',\n",
       " 'Inder Kumar Gujral',\n",
       " '(1919–2012)',\n",
       " '21 April 1997 to 19 March 1998 \\n332 days',\n",
       " '------',\n",
       " '16.',\n",
       " 'Atal Bihari Vajpayee',\n",
       " '(1924-2018)',\n",
       " '19 March 1998 to 22 May 2004 \\n6 years, 64 days',\n",
       " ' The first non-congress PM who completed a full term as PM',\n",
       " '17.',\n",
       " 'Manmohan Singh',\n",
       " '(born 1932)',\n",
       " '22 May 2004 to 26 May 2014   \\n10 years, 4 days',\n",
       " ' First Sikh PM',\n",
       " '18.',\n",
       " 'Narendra Modi',\n",
       " '(born 1950)',\n",
       " '26 May 2014 - 2019',\n",
       " '4th Prime Minister of India who served two consecutive tenures',\n",
       " '1.',\n",
       " 'Jawahar Lal Nehru',\n",
       " '(1889–1964)',\n",
       " '15 August 1947 to 27 May 1964\\n16 years, 286 days',\n",
       " 'The first prime minister of India and the longest-serving PM of India, the first to die in office.',\n",
       " '2.',\n",
       " 'Gulzarilal Nanda (Acting)',\n",
       " '(1898-1998)',\n",
       " '27 May 1964 to 9 June 1964,\\n13 days',\n",
       " 'First acting PM of India',\n",
       " '3.',\n",
       " 'Lal Bahadur Shastri',\n",
       " '(1904–1966)',\n",
       " '9 June 1964 to 11 January 1966\\n1 year, 216 days',\n",
       " \"He has given the slogan of 'Jai Jawan Jai Kisan' during the Indo-Pak war of 1965\",\n",
       " '5.',\n",
       " 'Indira Gandhi',\n",
       " '(1917–1984)',\n",
       " '24 January 1966 to 24 March 1977\\n11 years, 59 days',\n",
       " 'First female Prime Minister of India',\n",
       " '6.',\n",
       " 'Morarji Desai',\n",
       " '(1896–1995)',\n",
       " '24 March 1977 to  28 July 1979 \\n2 year, 126 days',\n",
       " 'Oldest to become PM (81 years old) and first to resign from office',\n",
       " '7.',\n",
       " 'Charan Singh',\n",
       " '(1902–1987)',\n",
       " '28 July 1979 to 14 January 1980\\n170 days',\n",
       " 'Only PM who did not face the Parliament',\n",
       " '8.',\n",
       " 'Indira Gandhi',\n",
       " '(1917–1984)',\n",
       " '14 January 1980 to 31 October 1984\\n4 years, 291 days',\n",
       " 'The first lady who served as PM for the second term',\n",
       " '9.',\n",
       " 'Rajiv Gandhi',\n",
       " '(1944–1991)',\n",
       " '31 October 1984 to 2 December 1989\\n5 years, 32 days',\n",
       " 'Youngest to become PM (40 years old)',\n",
       " '10.',\n",
       " 'V. P. Singh',\n",
       " '(1931–2008)',\n",
       " '2 December 1989 to 10 November 1990\\n343 days',\n",
       " 'First PM to step down after a vote of no confidence',\n",
       " '11.',\n",
       " 'Chandra Shekhar',\n",
       " '(1927–2007)',\n",
       " '10 November 1990 to 21 June 1991\\n223 days',\n",
       " 'He belongs to  Samajwadi Janata Party',\n",
       " '12.',\n",
       " 'P. V. Narasimha Rao',\n",
       " '(1921–2004)',\n",
       " '21 June 1991 to 16 May 1996\\n4 years, 330 days',\n",
       " 'First PM from South India',\n",
       " '13.',\n",
       " 'Atal Bihari Vajpayee',\n",
       " '(1924- 2018)',\n",
       " '16 May 1996 to 1 June 1996\\n16 days',\n",
       " 'PM for shortest tenure',\n",
       " '14.',\n",
       " 'H. D. Deve Gowda',\n",
       " '(born 1933)',\n",
       " '1 June 1996 to 21 April 1997\\n324 days',\n",
       " 'He belongs to  Janata Dal',\n",
       " '15.',\n",
       " 'Inder Kumar Gujral',\n",
       " '(1919–2012)',\n",
       " '21 April 1997 to 19 March 1998 \\n332 days',\n",
       " '------',\n",
       " '16.',\n",
       " 'Atal Bihari Vajpayee',\n",
       " '(1924-2018)',\n",
       " '19 March 1998 to 22 May 2004 \\n6 years, 64 days',\n",
       " ' The first non-congress PM who completed a full term as PM',\n",
       " '17.',\n",
       " 'Manmohan Singh',\n",
       " '(born 1932)',\n",
       " '22 May 2004 to 26 May 2014   \\n10 years, 4 days',\n",
       " ' First Sikh PM',\n",
       " '18.',\n",
       " 'Narendra Modi',\n",
       " '(born 1950)',\n",
       " '26 May 2014 - 2019',\n",
       " '4th Prime Minister of India who served two consecutive tenures']"
      ]
     },
     "execution_count": 89,
     "metadata": {},
     "output_type": "execute_result"
    }
   ],
   "source": [
    "PM_name"
   ]
  },
  {
   "cell_type": "code",
   "execution_count": 90,
   "id": "46830358",
   "metadata": {},
   "outputs": [
    {
     "data": {
      "text/html": [
       "<div>\n",
       "<style scoped>\n",
       "    .dataframe tbody tr th:only-of-type {\n",
       "        vertical-align: middle;\n",
       "    }\n",
       "\n",
       "    .dataframe tbody tr th {\n",
       "        vertical-align: top;\n",
       "    }\n",
       "\n",
       "    .dataframe thead th {\n",
       "        text-align: right;\n",
       "    }\n",
       "</style>\n",
       "<table border=\"1\" class=\"dataframe\">\n",
       "  <thead>\n",
       "    <tr style=\"text-align: right;\">\n",
       "      <th></th>\n",
       "      <th>PM-data</th>\n",
       "    </tr>\n",
       "  </thead>\n",
       "  <tbody>\n",
       "    <tr>\n",
       "      <th>0</th>\n",
       "      <td>1.</td>\n",
       "    </tr>\n",
       "    <tr>\n",
       "      <th>1</th>\n",
       "      <td>Jawahar Lal Nehru</td>\n",
       "    </tr>\n",
       "    <tr>\n",
       "      <th>2</th>\n",
       "      <td>(1889–1964)</td>\n",
       "    </tr>\n",
       "    <tr>\n",
       "      <th>3</th>\n",
       "      <td>15 August 1947 to 27 May 1964\\n16 years, 286 days</td>\n",
       "    </tr>\n",
       "    <tr>\n",
       "      <th>4</th>\n",
       "      <td>The first prime minister of India and the long...</td>\n",
       "    </tr>\n",
       "    <tr>\n",
       "      <th>...</th>\n",
       "      <td>...</td>\n",
       "    </tr>\n",
       "    <tr>\n",
       "      <th>80</th>\n",
       "      <td>18.</td>\n",
       "    </tr>\n",
       "    <tr>\n",
       "      <th>81</th>\n",
       "      <td>Narendra Modi</td>\n",
       "    </tr>\n",
       "    <tr>\n",
       "      <th>82</th>\n",
       "      <td>(born 1950)</td>\n",
       "    </tr>\n",
       "    <tr>\n",
       "      <th>83</th>\n",
       "      <td>26 May 2014 - 2019</td>\n",
       "    </tr>\n",
       "    <tr>\n",
       "      <th>84</th>\n",
       "      <td>4th Prime Minister of India who served two con...</td>\n",
       "    </tr>\n",
       "  </tbody>\n",
       "</table>\n",
       "<p>85 rows × 1 columns</p>\n",
       "</div>"
      ],
      "text/plain": [
       "                                              PM-data\n",
       "0                                                  1.\n",
       "1                                   Jawahar Lal Nehru\n",
       "2                                         (1889–1964)\n",
       "3   15 August 1947 to 27 May 1964\\n16 years, 286 days\n",
       "4   The first prime minister of India and the long...\n",
       "..                                                ...\n",
       "80                                                18.\n",
       "81                                      Narendra Modi\n",
       "82                                        (born 1950)\n",
       "83                                 26 May 2014 - 2019\n",
       "84  4th Prime Minister of India who served two con...\n",
       "\n",
       "[85 rows x 1 columns]"
      ]
     },
     "execution_count": 90,
     "metadata": {},
     "output_type": "execute_result"
    }
   ],
   "source": [
    "df7=pd.DataFrame({\"PM-data\":PM_data})\n",
    "df7"
   ]
  },
  {
   "cell_type": "markdown",
   "id": "33b681ca",
   "metadata": {},
   "source": [
    "# DONE, Thanks for visit "
   ]
  }
 ],
 "metadata": {
  "kernelspec": {
   "display_name": "Python 3 (ipykernel)",
   "language": "python",
   "name": "python3"
  },
  "language_info": {
   "codemirror_mode": {
    "name": "ipython",
    "version": 3
   },
   "file_extension": ".py",
   "mimetype": "text/x-python",
   "name": "python",
   "nbconvert_exporter": "python",
   "pygments_lexer": "ipython3",
   "version": "3.11.3"
  }
 },
 "nbformat": 4,
 "nbformat_minor": 5
}
