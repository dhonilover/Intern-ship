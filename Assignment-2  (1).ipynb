{
 "cells": [
  {
   "cell_type": "markdown",
   "id": "6d00cfb7",
   "metadata": {},
   "source": [
    "# Assignment-2 (Selenium)"
   ]
  },
  {
   "cell_type": "markdown",
   "id": "f3f10796",
   "metadata": {},
   "source": [
    "# solution for question no- 2"
   ]
  },
  {
   "cell_type": "code",
   "execution_count": 1,
   "id": "7e80c7f9",
   "metadata": {},
   "outputs": [
    {
     "name": "stdout",
     "output_type": "stream",
     "text": [
      "Requirement already satisfied: selenium in c:\\users\\sharm\\anaconda3\\lib\\site-packages (4.18.1)\n",
      "Requirement already satisfied: urllib3[socks]<3,>=1.26 in c:\\users\\sharm\\anaconda3\\lib\\site-packages (from selenium) (1.26.16)\n",
      "Requirement already satisfied: trio~=0.17 in c:\\users\\sharm\\anaconda3\\lib\\site-packages (from selenium) (0.24.0)\n",
      "Requirement already satisfied: trio-websocket~=0.9 in c:\\users\\sharm\\anaconda3\\lib\\site-packages (from selenium) (0.11.1)\n",
      "Requirement already satisfied: certifi>=2021.10.8 in c:\\users\\sharm\\anaconda3\\lib\\site-packages (from selenium) (2023.5.7)\n",
      "Requirement already satisfied: typing_extensions>=4.9.0 in c:\\users\\sharm\\anaconda3\\lib\\site-packages (from selenium) (4.10.0)\n",
      "Requirement already satisfied: attrs>=20.1.0 in c:\\users\\sharm\\anaconda3\\lib\\site-packages (from trio~=0.17->selenium) (22.1.0)\n",
      "Requirement already satisfied: sortedcontainers in c:\\users\\sharm\\anaconda3\\lib\\site-packages (from trio~=0.17->selenium) (2.4.0)\n",
      "Requirement already satisfied: idna in c:\\users\\sharm\\anaconda3\\lib\\site-packages (from trio~=0.17->selenium) (3.4)\n",
      "Requirement already satisfied: outcome in c:\\users\\sharm\\anaconda3\\lib\\site-packages (from trio~=0.17->selenium) (1.3.0.post0)\n",
      "Requirement already satisfied: sniffio>=1.3.0 in c:\\users\\sharm\\anaconda3\\lib\\site-packages (from trio~=0.17->selenium) (1.3.1)\n",
      "Requirement already satisfied: cffi>=1.14 in c:\\users\\sharm\\anaconda3\\lib\\site-packages (from trio~=0.17->selenium) (1.15.1)\n",
      "Requirement already satisfied: wsproto>=0.14 in c:\\users\\sharm\\anaconda3\\lib\\site-packages (from trio-websocket~=0.9->selenium) (1.2.0)\n",
      "Requirement already satisfied: PySocks!=1.5.7,<2.0,>=1.5.6 in c:\\users\\sharm\\anaconda3\\lib\\site-packages (from urllib3[socks]<3,>=1.26->selenium) (1.7.1)\n",
      "Requirement already satisfied: pycparser in c:\\users\\sharm\\anaconda3\\lib\\site-packages (from cffi>=1.14->trio~=0.17->selenium) (2.21)\n",
      "Requirement already satisfied: h11<1,>=0.9.0 in c:\\users\\sharm\\anaconda3\\lib\\site-packages (from wsproto>=0.14->trio-websocket~=0.9->selenium) (0.14.0)\n"
     ]
    }
   ],
   "source": [
    "#install selenium\n",
    "!pip install selenium"
   ]
  },
  {
   "cell_type": "code",
   "execution_count": 2,
   "id": "1c41e164",
   "metadata": {},
   "outputs": [],
   "source": [
    "#importing required libraries/tools\n",
    "import selenium\n",
    "import pandas as pd\n",
    "from selenium import webdriver\n",
    "import warnings\n",
    "warnings.filterwarnings('ignore')\n",
    "from selenium.webdriver.common.by import By"
   ]
  },
  {
   "cell_type": "code",
   "execution_count": 3,
   "id": "962846f3",
   "metadata": {},
   "outputs": [],
   "source": [
    "# selecting Chrome browser\n",
    "driver = webdriver.Chrome()"
   ]
  },
  {
   "cell_type": "code",
   "execution_count": 5,
   "id": "527bf0cf",
   "metadata": {},
   "outputs": [],
   "source": [
    "#getting into the website\n",
    "driver.get(\"https://www.naukri.com/\")"
   ]
  },
  {
   "cell_type": "code",
   "execution_count": 6,
   "id": "6e9edd70",
   "metadata": {},
   "outputs": [],
   "source": [
    "# searching for job title and location of job\n",
    "job_title=driver.find_element(By.CLASS_NAME,\"suggestor-input \")\n",
    "job_title.send_keys(\"Data Analyst\")"
   ]
  },
  {
   "cell_type": "code",
   "execution_count": 7,
   "id": "df3a2e98",
   "metadata": {},
   "outputs": [],
   "source": [
    "\n",
    "location=driver.find_element(By.XPATH,\"/html/body/div[1]/div[6]/div/div/div[5]/div/div/div/div[1]/div/input\")\n",
    "location.send_keys(\"Bangalore\")"
   ]
  },
  {
   "cell_type": "code",
   "execution_count": 8,
   "id": "b908c53f",
   "metadata": {},
   "outputs": [],
   "source": [
    "# for search \n",
    "search=driver.find_element(By.XPATH,\"/html/body/div[1]/div[6]/div/div/div[6]\")\n",
    "search.click()"
   ]
  },
  {
   "cell_type": "code",
   "execution_count": 9,
   "id": "05410635",
   "metadata": {},
   "outputs": [],
   "source": [
    "# for storing extracted data\n",
    "Job_title=[]\n",
    "Job_location=[]\n",
    "Company_name=[]\n",
    "Experience_required=[]"
   ]
  },
  {
   "cell_type": "code",
   "execution_count": 10,
   "id": "91813c75",
   "metadata": {},
   "outputs": [],
   "source": [
    "# scraping data for all four attributes\n",
    "\n",
    "title=driver.find_elements(By.CLASS_NAME,\"row1\")\n",
    "for i in title[0:10]:\n",
    "    title_tag=i.text\n",
    "    Job_title.append(title_tag)"
   ]
  },
  {
   "cell_type": "code",
   "execution_count": 11,
   "id": "37c1631c",
   "metadata": {},
   "outputs": [],
   "source": [
    "location=driver.find_elements(By.CLASS_NAME,\"locWdth\")\n",
    "for j in location[0:10]:\n",
    "    location_tag=j.text\n",
    "    Job_location.append(location_tag)"
   ]
  },
  {
   "cell_type": "code",
   "execution_count": 12,
   "id": "32e85dc5",
   "metadata": {},
   "outputs": [],
   "source": [
    "company=driver.find_elements(By.XPATH,'//div[@class=\" row2\"]/span/a[1]')\n",
    "for k in company[0:10]:\n",
    "    name=k.text\n",
    "    Company_name.append(name)"
   ]
  },
  {
   "cell_type": "code",
   "execution_count": 13,
   "id": "74e049ee",
   "metadata": {},
   "outputs": [],
   "source": [
    "Experience=driver.find_elements(By.CLASS_NAME,\"expwdth\")\n",
    "for l in Experience[0:10]:\n",
    "    experience=l.text\n",
    "    Experience_required.append(experience)"
   ]
  },
  {
   "cell_type": "code",
   "execution_count": 14,
   "id": "44b489a4",
   "metadata": {},
   "outputs": [],
   "source": [
    "#creating dataframe and for scrapped data\n",
    "\n",
    "df2=pd.DataFrame({'Job-Title':Job_title,'Job-Location':Job_location,'Company-Name':Company_name,'Experience-Required':Experience_required})"
   ]
  },
  {
   "cell_type": "code",
   "execution_count": 15,
   "id": "566ac590",
   "metadata": {},
   "outputs": [
    {
     "data": {
      "text/html": [
       "<div>\n",
       "<style scoped>\n",
       "    .dataframe tbody tr th:only-of-type {\n",
       "        vertical-align: middle;\n",
       "    }\n",
       "\n",
       "    .dataframe tbody tr th {\n",
       "        vertical-align: top;\n",
       "    }\n",
       "\n",
       "    .dataframe thead th {\n",
       "        text-align: right;\n",
       "    }\n",
       "</style>\n",
       "<table border=\"1\" class=\"dataframe\">\n",
       "  <thead>\n",
       "    <tr style=\"text-align: right;\">\n",
       "      <th></th>\n",
       "      <th>Job-Title</th>\n",
       "      <th>Job-Location</th>\n",
       "      <th>Company-Name</th>\n",
       "      <th>Experience-Required</th>\n",
       "    </tr>\n",
       "  </thead>\n",
       "  <tbody>\n",
       "    <tr>\n",
       "      <th>0</th>\n",
       "      <td>Data Analyst</td>\n",
       "      <td>Bengaluru</td>\n",
       "      <td>Mensa Brand Technologies</td>\n",
       "      <td>2-4 Yrs</td>\n",
       "    </tr>\n",
       "    <tr>\n",
       "      <th>1</th>\n",
       "      <td>FP&amp;A Data Analyst</td>\n",
       "      <td>Pune, Bengaluru</td>\n",
       "      <td>Alphawave SEMI</td>\n",
       "      <td>2-5 Yrs</td>\n",
       "    </tr>\n",
       "    <tr>\n",
       "      <th>2</th>\n",
       "      <td>Data Analyst</td>\n",
       "      <td>Remote</td>\n",
       "      <td>Puresoftware</td>\n",
       "      <td>5-10 Yrs</td>\n",
       "    </tr>\n",
       "    <tr>\n",
       "      <th>3</th>\n",
       "      <td>Data Analyst</td>\n",
       "      <td>Hybrid - Bengaluru(Electronic City)</td>\n",
       "      <td>MNC (Permanent Role )</td>\n",
       "      <td>7-12 Yrs</td>\n",
       "    </tr>\n",
       "    <tr>\n",
       "      <th>4</th>\n",
       "      <td>Data Analyst</td>\n",
       "      <td>Bengaluru</td>\n",
       "      <td>Janes</td>\n",
       "      <td>0-3 Yrs</td>\n",
       "    </tr>\n",
       "    <tr>\n",
       "      <th>5</th>\n",
       "      <td></td>\n",
       "      <td>Kolkata, Mumbai, New Delhi, Hyderabad, Pune, C...</td>\n",
       "      <td>TELUS International</td>\n",
       "      <td>1-4 Yrs</td>\n",
       "    </tr>\n",
       "    <tr>\n",
       "      <th>6</th>\n",
       "      <td></td>\n",
       "      <td>Bengaluru</td>\n",
       "      <td>Zoom Info</td>\n",
       "      <td>4-8 Yrs</td>\n",
       "    </tr>\n",
       "    <tr>\n",
       "      <th>7</th>\n",
       "      <td></td>\n",
       "      <td>Hyderabad, Bengaluru</td>\n",
       "      <td>Team Lease Dgital</td>\n",
       "      <td>6-10 Yrs</td>\n",
       "    </tr>\n",
       "    <tr>\n",
       "      <th>8</th>\n",
       "      <td>Data Analyst(Python , Pyspark )_ MNC</td>\n",
       "      <td>Hyderabad, Bengaluru, Delhi / NCR</td>\n",
       "      <td>Tata Consultancy Services (TCS)</td>\n",
       "      <td>4-9 Yrs</td>\n",
       "    </tr>\n",
       "    <tr>\n",
       "      <th>9</th>\n",
       "      <td>Data Sourcing &amp; Triage Analyst</td>\n",
       "      <td>Bengaluru</td>\n",
       "      <td>Softtek</td>\n",
       "      <td>4-6 Yrs</td>\n",
       "    </tr>\n",
       "  </tbody>\n",
       "</table>\n",
       "</div>"
      ],
      "text/plain": [
       "                              Job-Title  \\\n",
       "0                          Data Analyst   \n",
       "1                     FP&A Data Analyst   \n",
       "2                          Data Analyst   \n",
       "3                          Data Analyst   \n",
       "4                          Data Analyst   \n",
       "5                                         \n",
       "6                                         \n",
       "7                                         \n",
       "8  Data Analyst(Python , Pyspark )_ MNC   \n",
       "9        Data Sourcing & Triage Analyst   \n",
       "\n",
       "                                        Job-Location  \\\n",
       "0                                          Bengaluru   \n",
       "1                                    Pune, Bengaluru   \n",
       "2                                             Remote   \n",
       "3                Hybrid - Bengaluru(Electronic City)   \n",
       "4                                          Bengaluru   \n",
       "5  Kolkata, Mumbai, New Delhi, Hyderabad, Pune, C...   \n",
       "6                                          Bengaluru   \n",
       "7                               Hyderabad, Bengaluru   \n",
       "8                  Hyderabad, Bengaluru, Delhi / NCR   \n",
       "9                                          Bengaluru   \n",
       "\n",
       "                      Company-Name Experience-Required  \n",
       "0         Mensa Brand Technologies             2-4 Yrs  \n",
       "1                   Alphawave SEMI             2-5 Yrs  \n",
       "2                     Puresoftware            5-10 Yrs  \n",
       "3            MNC (Permanent Role )            7-12 Yrs  \n",
       "4                            Janes             0-3 Yrs  \n",
       "5              TELUS International             1-4 Yrs  \n",
       "6                        Zoom Info             4-8 Yrs  \n",
       "7                Team Lease Dgital            6-10 Yrs  \n",
       "8  Tata Consultancy Services (TCS)             4-9 Yrs  \n",
       "9                          Softtek             4-6 Yrs  "
      ]
     },
     "execution_count": 15,
     "metadata": {},
     "output_type": "execute_result"
    }
   ],
   "source": [
    "df2"
   ]
  },
  {
   "cell_type": "markdown",
   "id": "296ef1cd",
   "metadata": {},
   "source": [
    "# Solution for question 1"
   ]
  },
  {
   "cell_type": "markdown",
   "id": "894315aa",
   "metadata": {},
   "source": [
    "# for further questions please open next file"
   ]
  },
  {
   "cell_type": "code",
   "execution_count": 2,
   "id": "5858ef7a",
   "metadata": {},
   "outputs": [
    {
     "name": "stdout",
     "output_type": "stream",
     "text": [
      "Requirement already satisfied: selenium in c:\\users\\sharm\\anaconda3\\lib\\site-packages (4.18.1)\n",
      "Requirement already satisfied: urllib3[socks]<3,>=1.26 in c:\\users\\sharm\\anaconda3\\lib\\site-packages (from selenium) (1.26.16)\n",
      "Requirement already satisfied: trio~=0.17 in c:\\users\\sharm\\anaconda3\\lib\\site-packages (from selenium) (0.24.0)\n",
      "Requirement already satisfied: trio-websocket~=0.9 in c:\\users\\sharm\\anaconda3\\lib\\site-packages (from selenium) (0.11.1)\n",
      "Requirement already satisfied: certifi>=2021.10.8 in c:\\users\\sharm\\anaconda3\\lib\\site-packages (from selenium) (2023.5.7)\n",
      "Requirement already satisfied: typing_extensions>=4.9.0 in c:\\users\\sharm\\anaconda3\\lib\\site-packages (from selenium) (4.10.0)\n",
      "Requirement already satisfied: attrs>=20.1.0 in c:\\users\\sharm\\anaconda3\\lib\\site-packages (from trio~=0.17->selenium) (22.1.0)\n",
      "Requirement already satisfied: sortedcontainers in c:\\users\\sharm\\anaconda3\\lib\\site-packages (from trio~=0.17->selenium) (2.4.0)\n",
      "Requirement already satisfied: idna in c:\\users\\sharm\\anaconda3\\lib\\site-packages (from trio~=0.17->selenium) (3.4)\n",
      "Requirement already satisfied: outcome in c:\\users\\sharm\\anaconda3\\lib\\site-packages (from trio~=0.17->selenium) (1.3.0.post0)\n",
      "Requirement already satisfied: sniffio>=1.3.0 in c:\\users\\sharm\\anaconda3\\lib\\site-packages (from trio~=0.17->selenium) (1.3.1)\n",
      "Requirement already satisfied: cffi>=1.14 in c:\\users\\sharm\\anaconda3\\lib\\site-packages (from trio~=0.17->selenium) (1.15.1)\n",
      "Requirement already satisfied: wsproto>=0.14 in c:\\users\\sharm\\anaconda3\\lib\\site-packages (from trio-websocket~=0.9->selenium) (1.2.0)\n",
      "Requirement already satisfied: PySocks!=1.5.7,<2.0,>=1.5.6 in c:\\users\\sharm\\anaconda3\\lib\\site-packages (from urllib3[socks]<3,>=1.26->selenium) (1.7.1)\n",
      "Requirement already satisfied: pycparser in c:\\users\\sharm\\anaconda3\\lib\\site-packages (from cffi>=1.14->trio~=0.17->selenium) (2.21)\n",
      "Requirement already satisfied: h11<1,>=0.9.0 in c:\\users\\sharm\\anaconda3\\lib\\site-packages (from wsproto>=0.14->trio-websocket~=0.9->selenium) (0.14.0)\n"
     ]
    }
   ],
   "source": [
    "# installing selenium\n",
    "!pip install selenium"
   ]
  },
  {
   "cell_type": "code",
   "execution_count": 3,
   "id": "a3521dcb",
   "metadata": {},
   "outputs": [],
   "source": [
    "# calling important libraries/tools\n",
    "import selenium\n",
    "import pandas as pd\n",
    "from selenium import webdriver\n",
    "import warnings\n",
    "warnings.filterwarnings('ignore')\n",
    "from selenium.webdriver.common.by import By"
   ]
  },
  {
   "cell_type": "code",
   "execution_count": 4,
   "id": "980e82f7",
   "metadata": {},
   "outputs": [],
   "source": [
    "#selecting browser\n",
    "driver=webdriver.Chrome()"
   ]
  },
  {
   "cell_type": "code",
   "execution_count": 5,
   "id": "7f902c13",
   "metadata": {},
   "outputs": [],
   "source": [
    "# going to web page\n",
    "driver.get(\"https://www.shine.com/ \")"
   ]
  },
  {
   "cell_type": "code",
   "execution_count": 8,
   "id": "29d8825b",
   "metadata": {},
   "outputs": [],
   "source": [
    "# giving input foe job title & job location\n",
    "job_title=driver.find_element(By.XPATH,\"/html/body/div/div[4]/div/div[2]/div[2]/div/form/div/div[1]/ul/li[1]/div/input\")\n",
    "job_title.send_keys(\"Data Analyst\")"
   ]
  },
  {
   "cell_type": "code",
   "execution_count": 9,
   "id": "3edcfd39",
   "metadata": {},
   "outputs": [],
   "source": [
    " location=driver.find_element(By.XPATH,\"/html/body/div/div[4]/div/div[2]/div[2]/div/form/div/div[1]/ul/li[2]/div/input\")\n",
    "location.send_keys(\"Bangalore\")"
   ]
  },
  {
   "cell_type": "code",
   "execution_count": 10,
   "id": "bc91812c",
   "metadata": {},
   "outputs": [],
   "source": [
    "# for click on search\n",
    "search=driver.find_element(By.XPATH,\"/html/body/div/div[4]/div/div[2]/div[2]/div/form/div/div[2]/div/button\")\n",
    "search.click()"
   ]
  },
  {
   "cell_type": "code",
   "execution_count": 11,
   "id": "65e65231",
   "metadata": {},
   "outputs": [],
   "source": [
    "# for storing scrapped data\n",
    "job_title=[]\n",
    "job_location=[]\n",
    "company_name=[]\n",
    "experience_required=[]"
   ]
  },
  {
   "cell_type": "code",
   "execution_count": 12,
   "id": "6009f9d2",
   "metadata": {},
   "outputs": [],
   "source": [
    "# extracting data for all four attributes \n",
    "location=driver.find_elements(By.XPATH,'//div[@class=\" jobCard_jobCard_lists_item__YxRkV jobCard_locationIcon__zrWt2\"]')\n",
    "for i in location[0:10]:\n",
    "    locate_tag=i.text\n",
    "    job_location.append(locate_tag)"
   ]
  },
  {
   "cell_type": "code",
   "execution_count": 13,
   "id": "79b6a0a6",
   "metadata": {},
   "outputs": [],
   "source": [
    "company=driver.find_elements(By.XPATH,'//div[@class=\"jobCard_jobCard_cName__mYnow\"]/span')\n",
    "for k in company[0:10]:\n",
    "    name=k.text\n",
    "    company_name.append(name)"
   ]
  },
  {
   "cell_type": "code",
   "execution_count": 15,
   "id": "bc268b1d",
   "metadata": {},
   "outputs": [],
   "source": [
    "Experience=driver.find_elements(By.XPATH,'//div[@class=\"jobCard_jobCard_lists__fdnsc\"]/div')\n",
    "for l in Experience[0:10]:\n",
    "    experience=l.text\n",
    "    experience_required.append(experience)"
   ]
  },
  {
   "cell_type": "code",
   "execution_count": 19,
   "id": "2ef5de4f",
   "metadata": {},
   "outputs": [],
   "source": [
    "#creating dataframe\n",
    "df1=pd.DataFrame({'Job-location':job_location,'Company-name':company_name,'Experience-required':experience_required})"
   ]
  },
  {
   "cell_type": "code",
   "execution_count": 20,
   "id": "b04e36e6",
   "metadata": {},
   "outputs": [
    {
     "data": {
      "text/html": [
       "<div>\n",
       "<style scoped>\n",
       "    .dataframe tbody tr th:only-of-type {\n",
       "        vertical-align: middle;\n",
       "    }\n",
       "\n",
       "    .dataframe tbody tr th {\n",
       "        vertical-align: top;\n",
       "    }\n",
       "\n",
       "    .dataframe thead th {\n",
       "        text-align: right;\n",
       "    }\n",
       "</style>\n",
       "<table border=\"1\" class=\"dataframe\">\n",
       "  <thead>\n",
       "    <tr style=\"text-align: right;\">\n",
       "      <th></th>\n",
       "      <th>Job-location</th>\n",
       "      <th>Company-name</th>\n",
       "      <th>Experience-required</th>\n",
       "    </tr>\n",
       "  </thead>\n",
       "  <tbody>\n",
       "    <tr>\n",
       "      <th>0</th>\n",
       "      <td>Bangalore\\n+9</td>\n",
       "      <td>sahast sales corporation</td>\n",
       "      <td>12 to 22 Yrs</td>\n",
       "    </tr>\n",
       "    <tr>\n",
       "      <th>1</th>\n",
       "      <td>Bangalore\\n+6</td>\n",
       "      <td>techno endura</td>\n",
       "      <td>Bangalore\\n+9</td>\n",
       "    </tr>\n",
       "    <tr>\n",
       "      <th>2</th>\n",
       "      <td>Bangalore\\n+9</td>\n",
       "      <td>sahast sales corporation</td>\n",
       "      <td>0 to 1 Yr</td>\n",
       "    </tr>\n",
       "    <tr>\n",
       "      <th>3</th>\n",
       "      <td>Bangalore\\n+12</td>\n",
       "      <td>radhika enterprises</td>\n",
       "      <td>Bangalore\\n+6</td>\n",
       "    </tr>\n",
       "    <tr>\n",
       "      <th>4</th>\n",
       "      <td>Bangalore</td>\n",
       "      <td>ara resources private limited</td>\n",
       "      <td>12 to 22 Yrs</td>\n",
       "    </tr>\n",
       "    <tr>\n",
       "      <th>5</th>\n",
       "      <td>Bangalore\\n+3</td>\n",
       "      <td>diraa hr services hiring for mncs</td>\n",
       "      <td>Bangalore\\n+9</td>\n",
       "    </tr>\n",
       "    <tr>\n",
       "      <th>6</th>\n",
       "      <td>Bangalore\\n+2</td>\n",
       "      <td>ltimindtree limited</td>\n",
       "      <td>0 to 4 Yrs</td>\n",
       "    </tr>\n",
       "    <tr>\n",
       "      <th>7</th>\n",
       "      <td>Bangalore\\n+9</td>\n",
       "      <td>primecore mir services</td>\n",
       "      <td>Bangalore\\n+12</td>\n",
       "    </tr>\n",
       "    <tr>\n",
       "      <th>8</th>\n",
       "      <td>Bangalore</td>\n",
       "      <td>uprighthc solutions private limited</td>\n",
       "      <td>4 to 9 Yrs</td>\n",
       "    </tr>\n",
       "    <tr>\n",
       "      <th>9</th>\n",
       "      <td>Bangalore\\n+9</td>\n",
       "      <td>v-tech data outsourcing</td>\n",
       "      <td>Bangalore</td>\n",
       "    </tr>\n",
       "  </tbody>\n",
       "</table>\n",
       "</div>"
      ],
      "text/plain": [
       "     Job-location                         Company-name Experience-required\n",
       "0   Bangalore\\n+9             sahast sales corporation        12 to 22 Yrs\n",
       "1   Bangalore\\n+6                        techno endura       Bangalore\\n+9\n",
       "2   Bangalore\\n+9             sahast sales corporation           0 to 1 Yr\n",
       "3  Bangalore\\n+12                  radhika enterprises       Bangalore\\n+6\n",
       "4       Bangalore        ara resources private limited        12 to 22 Yrs\n",
       "5   Bangalore\\n+3    diraa hr services hiring for mncs       Bangalore\\n+9\n",
       "6   Bangalore\\n+2                  ltimindtree limited          0 to 4 Yrs\n",
       "7   Bangalore\\n+9               primecore mir services      Bangalore\\n+12\n",
       "8       Bangalore  uprighthc solutions private limited          4 to 9 Yrs\n",
       "9   Bangalore\\n+9              v-tech data outsourcing           Bangalore"
      ]
     },
     "execution_count": 20,
     "metadata": {},
     "output_type": "execute_result"
    }
   ],
   "source": [
    "df1"
   ]
  },
  {
   "cell_type": "code",
   "execution_count": null,
   "id": "425921c1",
   "metadata": {},
   "outputs": [],
   "source": []
  }
 ],
 "metadata": {
  "kernelspec": {
   "display_name": "Python 3 (ipykernel)",
   "language": "python",
   "name": "python3"
  },
  "language_info": {
   "codemirror_mode": {
    "name": "ipython",
    "version": 3
   },
   "file_extension": ".py",
   "mimetype": "text/x-python",
   "name": "python",
   "nbconvert_exporter": "python",
   "pygments_lexer": "ipython3",
   "version": "3.11.3"
  }
 },
 "nbformat": 4,
 "nbformat_minor": 5
}
